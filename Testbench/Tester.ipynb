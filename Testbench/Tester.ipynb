{
 "cells": [
  {
   "cell_type": "code",
   "execution_count": 3,
   "id": "12932f41",
   "metadata": {},
   "outputs": [],
   "source": [
    "import random\n",
    "\n",
    "# Note: ref for llm integration --> https://github.com/KoraSHughes/Visualiation-Practice/blob/main/machine%20learning%20visualization/practice/ChatAuutoVis.ipynb"
   ]
  },
  {
   "cell_type": "code",
   "execution_count": 16,
   "id": "7bafb7dd",
   "metadata": {
    "scrolled": true
   },
   "outputs": [
    {
     "name": "stdout",
     "output_type": "stream",
     "text": [
      "Testing [0, 0] => 0\n",
      "Testing [0, 1] => 1\n",
      "Testing [0, 2] => 2\n",
      "Testing [0, 3] => 3\n",
      "Testing [0, 4] => 4\n",
      "Testing [0, 5] => 5\n",
      "Testing [0, 6] => 6\n",
      "Testing [0, 7] => 7\n",
      "Testing [0, 8] => 8\n",
      "Testing [0, 9] => 9\n",
      "Testing [1, 0] => 1\n",
      "Testing [1, 1] => 2\n",
      "Testing [1, 2] => 3\n",
      "Testing [1, 3] => 4\n",
      "Testing [1, 4] => 5\n",
      "Testing [1, 5] => 6\n",
      "Testing [1, 6] => 7\n",
      "Testing [1, 7] => 8\n",
      "Testing [1, 8] => 9\n",
      "Testing [1, 9] => 10\n",
      "Testing [2, 0] => 2\n",
      "Testing [2, 1] => 3\n",
      "Testing [2, 2] => 4\n",
      "Testing [2, 3] => 5\n",
      "Testing [2, 4] => 6\n",
      "Testing [2, 5] => 7\n",
      "Testing [2, 6] => 8\n",
      "Testing [2, 7] => 9\n",
      "Testing [2, 8] => 10\n",
      "Testing [2, 9] => 11\n",
      "Testing [3, 0] => 3\n",
      "Testing [3, 1] => 4\n",
      "Testing [3, 2] => 5\n",
      "Testing [3, 3] => 6\n",
      "Testing [3, 4] => 7\n",
      "Testing [3, 5] => 8\n",
      "Testing [3, 6] => 9\n",
      "Testing [3, 7] => 10\n",
      "Testing [3, 8] => 11\n",
      "Testing [3, 9] => 12\n",
      "Testing [4, 0] => 4\n",
      "Testing [4, 1] => 5\n",
      "Testing [4, 2] => 6\n",
      "Testing [4, 3] => 7\n",
      "Testing [4, 4] => 8\n",
      "Testing [4, 5] => 9\n",
      "Testing [4, 6] => 10\n",
      "Testing [4, 7] => 11\n",
      "Testing [4, 8] => 12\n",
      "Testing [4, 9] => 13\n",
      "Testing [5, 0] => 5\n",
      "Testing [5, 1] => 6\n",
      "Testing [5, 2] => 7\n",
      "Testing [5, 3] => 8\n",
      "Testing [5, 4] => 9\n",
      "Testing [5, 5] => 10\n",
      "Testing [5, 6] => 11\n",
      "Testing [5, 7] => 12\n",
      "Testing [5, 8] => 13\n",
      "Testing [5, 9] => 14\n",
      "Testing [6, 0] => 6\n",
      "Testing [6, 1] => 7\n",
      "Testing [6, 2] => 8\n",
      "Testing [6, 3] => 9\n",
      "Testing [6, 4] => 10\n",
      "Testing [6, 5] => 11\n",
      "Testing [6, 6] => 12\n",
      "Testing [6, 7] => 13\n",
      "Testing [6, 8] => 14\n",
      "Testing [6, 9] => 15\n",
      "Testing [7, 0] => 7\n",
      "Testing [7, 1] => 8\n",
      "Testing [7, 2] => 9\n",
      "Testing [7, 3] => 10\n",
      "Testing [7, 4] => 11\n",
      "Testing [7, 5] => 12\n",
      "Testing [7, 6] => 13\n",
      "Testing [7, 7] => 14\n",
      "Testing [7, 8] => 15\n",
      "Testing [7, 9] => 16\n",
      "Testing [8, 0] => 8\n",
      "Testing [8, 1] => 9\n",
      "Testing [8, 2] => 10\n",
      "Testing [8, 3] => 11\n",
      "Testing [8, 4] => 12\n",
      "Testing [8, 5] => 13\n",
      "Testing [8, 6] => 14\n",
      "Testing [8, 7] => 15\n",
      "Testing [8, 8] => 16\n",
      "Testing [8, 9] => 17\n",
      "Testing [9, 0] => 9\n",
      "Testing [9, 1] => 10\n",
      "Testing [9, 2] => 11\n",
      "Testing [9, 3] => 12\n",
      "Testing [9, 4] => 13\n",
      "Testing [9, 5] => 14\n",
      "Testing [9, 6] => 15\n",
      "Testing [9, 7] => 16\n",
      "Testing [9, 8] => 17\n",
      "Testing [9, 9] => 18\n"
     ]
    }
   ],
   "source": [
    "def testbench(test_cases, dut):\n",
    "    for inputs, output in test_cases:\n",
    "        print(\"Testing\", inputs, \"=>\", output)\n",
    "        assert dut(inputs) == output, \"Test failed: incorrect output\"\n",
    "#     assert False, \"All Test cases passed :)\"\n",
    "        \n",
    "        \n",
    "def adder_dut(inputs):  # basic adder\n",
    "    return sum(inputs)\n",
    "def make_adder_test(num_tests=100):\n",
    "    for a in range(num_tests):\n",
    "        for b in range(num_tests):\n",
    "            yield ([a, b], (a+b))\n",
    "            \n",
    "#basic testing\n",
    "testbench(make_adder_test(10), adder_dut)"
   ]
  },
  {
   "cell_type": "code",
   "execution_count": 19,
   "id": "506e40fd",
   "metadata": {},
   "outputs": [
    {
     "ename": "TypeError",
     "evalue": "can only concatenate str (not \"int\") to str",
     "output_type": "error",
     "traceback": [
      "\u001b[0;31m---------------------------------------------------------------------------\u001b[0m",
      "\u001b[0;31mTypeError\u001b[0m                                 Traceback (most recent call last)",
      "Input \u001b[0;32mIn [19]\u001b[0m, in \u001b[0;36m<cell line: 7>\u001b[0;34m()\u001b[0m\n\u001b[1;32m      4\u001b[0m         out \u001b[38;5;241m+\u001b[39m\u001b[38;5;241m=\u001b[39m delim\u001b[38;5;241m.\u001b[39mjoin([\u001b[38;5;28mstr\u001b[39m(i) \u001b[38;5;28;01mfor\u001b[39;00m i \u001b[38;5;129;01min\u001b[39;00m test[\u001b[38;5;241m0\u001b[39m]]) \u001b[38;5;241m+\u001b[39m delim \u001b[38;5;241m+\u001b[39m test[\u001b[38;5;241m1\u001b[39m] \u001b[38;5;241m+\u001b[39m line_delim\n\u001b[1;32m      5\u001b[0m     \u001b[38;5;28;01mreturn\u001b[39;00m out\n\u001b[0;32m----> 7\u001b[0m to_save \u001b[38;5;241m=\u001b[39m \u001b[43mtest_to_string\u001b[49m\u001b[43m(\u001b[49m\u001b[43mmake_adder_test\u001b[49m\u001b[43m(\u001b[49m\u001b[43m)\u001b[49m\u001b[43m)\u001b[49m\n\u001b[1;32m      8\u001b[0m \u001b[38;5;28mprint\u001b[39m(to_save)\n",
      "Input \u001b[0;32mIn [19]\u001b[0m, in \u001b[0;36mtest_to_string\u001b[0;34m(tester, delim, line_delim)\u001b[0m\n\u001b[1;32m      2\u001b[0m out \u001b[38;5;241m=\u001b[39m \u001b[38;5;124m\"\u001b[39m\u001b[38;5;124m\"\u001b[39m\n\u001b[1;32m      3\u001b[0m \u001b[38;5;28;01mfor\u001b[39;00m test \u001b[38;5;129;01min\u001b[39;00m tester:\n\u001b[0;32m----> 4\u001b[0m     out \u001b[38;5;241m+\u001b[39m\u001b[38;5;241m=\u001b[39m \u001b[43mdelim\u001b[49m\u001b[38;5;241;43m.\u001b[39;49m\u001b[43mjoin\u001b[49m\u001b[43m(\u001b[49m\u001b[43m[\u001b[49m\u001b[38;5;28;43mstr\u001b[39;49m\u001b[43m(\u001b[49m\u001b[43mi\u001b[49m\u001b[43m)\u001b[49m\u001b[43m \u001b[49m\u001b[38;5;28;43;01mfor\u001b[39;49;00m\u001b[43m \u001b[49m\u001b[43mi\u001b[49m\u001b[43m \u001b[49m\u001b[38;5;129;43;01min\u001b[39;49;00m\u001b[43m \u001b[49m\u001b[43mtest\u001b[49m\u001b[43m[\u001b[49m\u001b[38;5;241;43m0\u001b[39;49m\u001b[43m]\u001b[49m\u001b[43m]\u001b[49m\u001b[43m)\u001b[49m\u001b[43m \u001b[49m\u001b[38;5;241;43m+\u001b[39;49m\u001b[43m \u001b[49m\u001b[43mdelim\u001b[49m\u001b[43m \u001b[49m\u001b[38;5;241;43m+\u001b[39;49m\u001b[43m \u001b[49m\u001b[43mtest\u001b[49m\u001b[43m[\u001b[49m\u001b[38;5;241;43m1\u001b[39;49m\u001b[43m]\u001b[49m \u001b[38;5;241m+\u001b[39m line_delim\n\u001b[1;32m      5\u001b[0m \u001b[38;5;28;01mreturn\u001b[39;00m out\n",
      "\u001b[0;31mTypeError\u001b[0m: can only concatenate str (not \"int\") to str"
     ]
    }
   ],
   "source": [
    "def test_to_string(tester, delim=' ', line_delim='\\n'):\n",
    "    out = \"\"\n",
    "    for test in tester:\n",
    "        out += delim.join([str(i) for i in test[0]]) + delim + test[1] + line_delim\n",
    "    return out\n",
    "\n",
    "to_save = test_to_string(make_adder_test())\n",
    "print(to_save)"
   ]
  },
  {
   "cell_type": "code",
   "execution_count": null,
   "id": "133d765f",
   "metadata": {},
   "outputs": [],
   "source": [
    "text_file = open(\"adder_input.txt\", \"w\")\n",
    "text_file.write(to_save)\n",
    "text_file.close()"
   ]
  }
 ],
 "metadata": {
  "kernelspec": {
   "display_name": "Python 3 (ipykernel)",
   "language": "python",
   "name": "python3"
  },
  "language_info": {
   "codemirror_mode": {
    "name": "ipython",
    "version": 3
   },
   "file_extension": ".py",
   "mimetype": "text/x-python",
   "name": "python",
   "nbconvert_exporter": "python",
   "pygments_lexer": "ipython3",
   "version": "3.9.12"
  }
 },
 "nbformat": 4,
 "nbformat_minor": 5
}
