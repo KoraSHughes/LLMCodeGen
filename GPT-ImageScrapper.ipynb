{
 "cells": [
  {
   "cell_type": "code",
   "execution_count": 1,
   "id": "f83b22b6",
   "metadata": {},
   "outputs": [],
   "source": [
    "import os\n",
    "import openai\n",
    "from tqdm import tqdm\n",
    "import pandas as pd\n",
    "import numpy as np\n",
    "\n",
    "from IPython import display\n",
    "\n",
    "cwd = os.getcwd()"
   ]
  },
  {
   "cell_type": "markdown",
   "id": "0cee2827",
   "metadata": {},
   "source": [
    "## Main GPT Functions"
   ]
  },
  {
   "cell_type": "code",
   "execution_count": 112,
   "id": "5b4a3c25",
   "metadata": {
    "scrolled": true
   },
   "outputs": [],
   "source": [
    "OPENAI_API_KEY = os.environ['OPENAI_API_KEY']\n",
    "openai.api_key = OPENAI_API_KEY\n",
    "\n",
    "def run_gpt(messages, this_model=\"gpt-3.5-turbo\"):\n",
    "    response = openai.ChatCompletion.create(\n",
    "        model=this_model,\n",
    "        messages=messages\n",
    "    )\n",
    "    return response\n",
    "\n",
    "\n",
    "def gpt_oneshot(input_prompt, directive=\"You are a helpful assistant.\", verbose=False):\n",
    "    message_hist = [{\"role\": \"system\", \"content\": directive},  # add directed\n",
    "                    {\"role\": \"user\", \"content\": input_prompt}]  # init\n",
    "    response = run_gpt(message_hist)[\"choices\"][0][\"message\"][\"content\"]\n",
    "    if verbose:\n",
    "        print(\"chat_gpt: \", response, '\\n')\n",
    "#     message_hist.append({\"role\": \"system\", \"content\": response})\n",
    "    return response"
   ]
  },
  {
   "cell_type": "code",
   "execution_count": 164,
   "id": "f519afd0",
   "metadata": {
    "scrolled": true
   },
   "outputs": [],
   "source": [
    "# https://platform.openai.com/docs/guides/vision\n",
    "def gpt_image_oneshot(image_link, new_prompt=\"This image contains some information about Verilog. Please respond with a question\\\n",
    "                                            for which the answer is the code snippet on this page.\",\n",
    "                        role=\"You are a helpful assistant that gives information on images of code.\", \n",
    "                        retry=2, verbose=False):\n",
    "    # \"This image contains a block of Verilog code and text relating to it. \"+...\n",
    "    new_content = [{\"type\": \"text\", \"text\": new_prompt},\n",
    "                    {\"type\": \"image_url\", \"image_url\": {\"url\": image_link}}]  # \"I am the owner/maker of this image\", \"I am an ML researcher\"\n",
    "    message_hist = [{\"role\": \"system\", \"content\": role},\n",
    "                    {\"role\": \"user\", \"content\": new_content}]  # init\n",
    "    if verbose:\n",
    "        print(\"Asked:\", new_content[0][\"text\"])\n",
    "#         print(\"With Image:\", new_content[1][\"image_url\"][\"url\"])\n",
    "    attempts = 0\n",
    "    response = \"\"\n",
    "    while response == \"\" and attempts < retry:\n",
    "        try:\n",
    "            response = run_gpt(message_hist, \"gpt-4-vision-preview\").choices[0].message.content\n",
    "        except Exception as e:\n",
    "            attempts += 1\n",
    "            if verbose: print(\"Encountered error:\", e)\n",
    "    if verbose: print(\"\\nResponded With:\", response)\n",
    "    return response\n",
    "# TODO account for timout issue\n",
    "# TODO account for copyright\n",
    "\n",
    "# test_image1 = cwd+\"/testpage.jpg\"\n",
    "# base64_image = encode_image(image_path)\n",
    "# my_link3 = f\"data:image/jpeg;base64,{base64_image}\"\n",
    "# rep = gpt_image_oneshot(my_link3, \"Please respond with a question for which the answer is the code snippet on this page.\", True)\n",
    "\n",
    "# print()\n",
    "# for code_snip in get_code(rep):\n",
    "#     print(code_snip)\n",
    "#     print()\n",
    "\n",
    "# display.Image(file_dir)"
   ]
  },
  {
   "cell_type": "markdown",
   "id": "b06cbe69",
   "metadata": {},
   "source": [
    "### Cleaning Functions"
   ]
  },
  {
   "cell_type": "code",
   "execution_count": 6,
   "id": "872344ad",
   "metadata": {},
   "outputs": [],
   "source": [
    "def get_failed_request(df, identifier=\"I'm sorry\", setna=True, verbose=True):\n",
    "    inds = set()\n",
    "    messages = set()\n",
    "    failed_count = 0\n",
    "    for i, row in df.iterrows():\n",
    "        for col in df.columns:\n",
    "            if identifier in str(row[col]):\n",
    "                inds.add(i)\n",
    "                messages.add(row[col])\n",
    "                failed_count += 1\n",
    "                if setna:\n",
    "                    df.loc[i, col] = np.nan\n",
    "    if verbose:\n",
    "        copy_count = sum([1 for mes in messages if \"copyright\" in mes])\n",
    "        print(\"found\", len(inds), \"rows with bad requests and a total of\", failed_count, \"cells of bad calls\")\n",
    "        print(len(messages), \"of which where unique and\", copy_count, \"of which were identified as copyright related\")\n",
    "        if len(messages) > 0:\n",
    "            print(\"\\nan example of this is:\\n\", list(messages)[0])\n",
    "    return df, failed_count, messages, inds"
   ]
  },
  {
   "cell_type": "markdown",
   "id": "472a1de3",
   "metadata": {},
   "source": [
    "### Helpers"
   ]
  },
  {
   "cell_type": "code",
   "execution_count": 7,
   "id": "74a755cc",
   "metadata": {},
   "outputs": [],
   "source": [
    "# helpers\n",
    "import base64\n",
    "\n",
    "# Function to encode the image\n",
    "def encode_image(image_path):\n",
    "    with open(image_path, \"rb\") as image_file:\n",
    "        return base64.b64encode(image_file.read()).decode('utf-8')\n",
    "\n",
    "\n",
    "def get_code(text):\n",
    "    if text is None or len(text) == 0:\n",
    "        return []\n",
    "    this_code = []\n",
    "    for i, code_chunk in enumerate(text.split('```')):  # pieces of code are denoted by ``` so we split\n",
    "        if i%2 == 1:  # every other chunk is a piece of code in this case\n",
    "            this_code.append(code_chunk[7:])  # Note: code declarations also have 'python\\n' denoting the language, since we dont need this, we omit the first 7 chars\n",
    "    return this_code\n"
   ]
  },
  {
   "cell_type": "markdown",
   "id": "f11bfaea",
   "metadata": {},
   "source": [
    "## Code Extraction Functions"
   ]
  },
  {
   "cell_type": "code",
   "execution_count": 165,
   "id": "ec88643f",
   "metadata": {},
   "outputs": [],
   "source": [
    "prompt_precursor = \"This image contains some information about Verilog. \"\n",
    "bad_message = \"NO CODE\"\n",
    "ask_code = prompt_precursor+\"If there is some code on this page then please write it. Otherwise say \\\"\"+bad_message+\"\\\"\"\n",
    "# supervised addition\n",
    "ask_caption = \"This image contains some Verilog code on it. Please give a short caption to describe this code.\"\n",
    "# additional queries\n",
    "ask_question = \"This image contains some Verilog code on it. ONLY respond with a question for which the answer is the code snippet on this page. Make sure to phrase the question as if you are a Verilog programmer asking for some help.\"\n",
    "question_examples = \"\"\"Examples of types of questions:\n",
    "How can I add ___?\n",
    "Give me a module/implementation of a ___?\n",
    "How does ___ work?\n",
    "I want to write Verilog for ___?\n",
    "Explain ___ concept using an example?\n",
    "What is the difference between ___ and ___?\n",
    "\"\"\"\n",
    "ask_question += '\\n' + question_examples\n",
    "\n",
    "\n",
    "indicators = [\"```\"]\n",
    "def has_code(message):\n",
    "    message = message.strip()\n",
    "    if bad_message in message:\n",
    "        return False  # instant signal\n",
    "    for ind in indicators:\n",
    "        if ind in message:\n",
    "            return True\n",
    "    return False\n",
    "\n",
    "def extract_code(image_path, verbose=False):\n",
    "    \"\"\" takes in the link of a local image and gets information about code on it \"\"\"\n",
    "    base64_image = encode_image(image_path)\n",
    "    image_link = f\"data:image/jpeg;base64,{base64_image}\"\n",
    "    \n",
    "    raw_code = gpt_image_oneshot(image_link, ask_code)\n",
    "    if raw_code == \"\":\n",
    "        print(\"*couldnt get code after 2 attempts\")\n",
    "        return [image_path, False, np.nan, np.nan, np.nan, np.nan]\n",
    "    else:  # only run subsequent queries if we identify response\n",
    "        processed_code = np.nan\n",
    "        caption = np.nan\n",
    "        question = np.nan\n",
    "        is_code = has_code(raw_code)\n",
    "        if is_code:  # check if there is code\n",
    "            processed_code = '\\n'.join(get_code(raw_code))  # NOTE: aggregation not necessary\n",
    "            # * process caption\n",
    "            caption = gpt_image_oneshot(image_link, ask_caption)\n",
    "            # * process question\n",
    "            question = gpt_image_oneshot(image_link, ask_question)\n",
    "        has_finished = is_code and np.isnan(caption) and np.isnan(question)  # signifier that we have consistent output on both fronts\n",
    "        return [image_path, has_finished, raw_code, processed_code, caption, question]"
   ]
  },
  {
   "cell_type": "code",
   "execution_count": 166,
   "id": "29d26195",
   "metadata": {},
   "outputs": [
    {
     "name": "stdout",
     "output_type": "stream",
     "text": [
      "This image contains some information about Verilog. If there is some code on this page then please write it. Otherwise say \"NO CODE\"\n",
      "\n",
      "This image contains some Verilog code on it. Please give a short caption to describe this code.\n",
      "\n",
      "This image contains some Verilog code on it. Please respond with a question for which the answer is the code snippet on this page.\n",
      "\n"
     ]
    }
   ],
   "source": [
    "# Prompts Used Above:\n",
    "for prompt in [ask_code, ask_caption, ask_question]:\n",
    "    print(prompt)\n",
    "    print()"
   ]
  },
  {
   "cell_type": "markdown",
   "id": "35c66003",
   "metadata": {},
   "source": [
    "### Pipeline"
   ]
  },
  {
   "cell_type": "code",
   "execution_count": 75,
   "id": "96189f20",
   "metadata": {},
   "outputs": [
    {
     "name": "stdout",
     "output_type": "stream",
     "text": [
      "Found 4822 files\n",
      "\n",
      "Found additional 21728 books\n",
      "For partial execution, allocating 8155 books\n",
      "\n",
      "Total books: 12977\n"
     ]
    }
   ],
   "source": [
    "# find file directories\n",
    "data_dir = \"Data/example-code/supervised-textbook/paginated/\"  # from my 10 books\n",
    "my_ims = [data_dir+file for file in os.listdir(data_dir) if 'jpg' in file]\n",
    "print(\"Found\", len(my_ims), \"files\\n\")\n",
    "\n",
    "# for partial execution on google and partial on my computer\n",
    "new_data_dir = \"Data/example-code/supervised-textbook/extra-paginated/\"  # from Andre's 60 books\n",
    "new_ims = [file for file in os.listdir(new_data_dir) if 'jpg' in file]\n",
    "print(\"Found additional\", len(new_ims), \"books\")\n",
    "partial_ims = [new_data_dir+file for file in new_ims if 'book' not in file.lower()]  # 21728 - 13573 = 8155\n",
    "print(\"For partial execution, allocating\", len(partial_ims), \"books\")\n",
    "# partial_ims = partial_ims[9500:]\n",
    "# print(\"segmented into\", len(partial_ims))\n",
    "\n",
    "ims = partial_ims + my_ims\n",
    "print(\"\\nTotal books:\", len(ims))\n",
    "\n",
    "# NOTE: should be 26550 books once aggregated - 49% of which are being processed on local"
   ]
  },
  {
   "cell_type": "code",
   "execution_count": 86,
   "id": "4efc5eb2",
   "metadata": {},
   "outputs": [
    {
     "name": "stdout",
     "output_type": "stream",
     "text": [
      "Processing textbooks with checkpoints every 100\n"
     ]
    },
    {
     "name": "stderr",
     "output_type": "stream",
     "text": [
      "101it [16:46, 10.60s/it]"
     ]
    },
    {
     "name": "stdout",
     "output_type": "stream",
     "text": [
      "SAVED TO  Data/example-code/supervised-textbook/checkpoints/textbook2-gpt0-100.csv\n",
      "\n"
     ]
    },
    {
     "name": "stderr",
     "output_type": "stream",
     "text": [
      "201it [41:41, 12.32s/it]"
     ]
    },
    {
     "name": "stdout",
     "output_type": "stream",
     "text": [
      "SAVED TO  Data/example-code/supervised-textbook/checkpoints/textbook2-gpt100-200.csv\n",
      "\n"
     ]
    },
    {
     "name": "stderr",
     "output_type": "stream",
     "text": [
      "301it [1:02:42,  7.44s/it]"
     ]
    },
    {
     "name": "stdout",
     "output_type": "stream",
     "text": [
      "SAVED TO  Data/example-code/supervised-textbook/checkpoints/textbook2-gpt200-300.csv\n",
      "\n"
     ]
    },
    {
     "name": "stderr",
     "output_type": "stream",
     "text": [
      "401it [1:16:19, 10.75s/it]"
     ]
    },
    {
     "name": "stdout",
     "output_type": "stream",
     "text": [
      "SAVED TO  Data/example-code/supervised-textbook/checkpoints/textbook2-gpt300-400.csv\n",
      "\n"
     ]
    },
    {
     "name": "stderr",
     "output_type": "stream",
     "text": [
      "501it [1:32:46,  8.58s/it]"
     ]
    },
    {
     "name": "stdout",
     "output_type": "stream",
     "text": [
      "SAVED TO  Data/example-code/supervised-textbook/checkpoints/textbook2-gpt400-500.csv\n",
      "\n"
     ]
    },
    {
     "name": "stderr",
     "output_type": "stream",
     "text": [
      "601it [1:45:12, 13.13s/it]"
     ]
    },
    {
     "name": "stdout",
     "output_type": "stream",
     "text": [
      "SAVED TO  Data/example-code/supervised-textbook/checkpoints/textbook2-gpt500-600.csv\n",
      "\n"
     ]
    },
    {
     "name": "stderr",
     "output_type": "stream",
     "text": [
      "701it [1:58:17,  3.31s/it]"
     ]
    },
    {
     "name": "stdout",
     "output_type": "stream",
     "text": [
      "SAVED TO  Data/example-code/supervised-textbook/checkpoints/textbook2-gpt600-700.csv\n",
      "\n"
     ]
    },
    {
     "name": "stderr",
     "output_type": "stream",
     "text": [
      "801it [2:15:39, 11.83s/it]"
     ]
    },
    {
     "name": "stdout",
     "output_type": "stream",
     "text": [
      "SAVED TO  Data/example-code/supervised-textbook/checkpoints/textbook2-gpt700-800.csv\n",
      "\n"
     ]
    },
    {
     "name": "stderr",
     "output_type": "stream",
     "text": [
      "901it [2:33:25, 12.20s/it]"
     ]
    },
    {
     "name": "stdout",
     "output_type": "stream",
     "text": [
      "SAVED TO  Data/example-code/supervised-textbook/checkpoints/textbook2-gpt800-900.csv\n",
      "\n"
     ]
    },
    {
     "name": "stderr",
     "output_type": "stream",
     "text": [
      "1001it [2:48:34, 10.93s/it]"
     ]
    },
    {
     "name": "stdout",
     "output_type": "stream",
     "text": [
      "SAVED TO  Data/example-code/supervised-textbook/checkpoints/textbook2-gpt900-1000.csv\n",
      "\n"
     ]
    },
    {
     "name": "stderr",
     "output_type": "stream",
     "text": [
      "1101it [3:07:38, 12.44s/it]"
     ]
    },
    {
     "name": "stdout",
     "output_type": "stream",
     "text": [
      "SAVED TO  Data/example-code/supervised-textbook/checkpoints/textbook2-gpt1000-1100.csv\n",
      "\n"
     ]
    },
    {
     "name": "stderr",
     "output_type": "stream",
     "text": [
      "1201it [3:27:43,  8.51s/it]"
     ]
    },
    {
     "name": "stdout",
     "output_type": "stream",
     "text": [
      "SAVED TO  Data/example-code/supervised-textbook/checkpoints/textbook2-gpt1100-1200.csv\n",
      "\n"
     ]
    },
    {
     "name": "stderr",
     "output_type": "stream",
     "text": [
      "1301it [3:41:06,  4.37s/it]"
     ]
    },
    {
     "name": "stdout",
     "output_type": "stream",
     "text": [
      "SAVED TO  Data/example-code/supervised-textbook/checkpoints/textbook2-gpt1200-1300.csv\n",
      "\n"
     ]
    },
    {
     "name": "stderr",
     "output_type": "stream",
     "text": [
      "1401it [3:54:16,  4.16s/it]"
     ]
    },
    {
     "name": "stdout",
     "output_type": "stream",
     "text": [
      "SAVED TO  Data/example-code/supervised-textbook/checkpoints/textbook2-gpt1300-1400.csv\n",
      "\n"
     ]
    },
    {
     "name": "stderr",
     "output_type": "stream",
     "text": [
      "1501it [4:10:14,  4.80s/it]"
     ]
    },
    {
     "name": "stdout",
     "output_type": "stream",
     "text": [
      "SAVED TO  Data/example-code/supervised-textbook/checkpoints/textbook2-gpt1400-1500.csv\n",
      "\n"
     ]
    },
    {
     "name": "stderr",
     "output_type": "stream",
     "text": [
      "1601it [4:18:44,  8.11s/it]"
     ]
    },
    {
     "name": "stdout",
     "output_type": "stream",
     "text": [
      "SAVED TO  Data/example-code/supervised-textbook/checkpoints/textbook2-gpt1500-1600.csv\n",
      "\n"
     ]
    },
    {
     "name": "stderr",
     "output_type": "stream",
     "text": [
      "1701it [4:26:48, 11.49s/it]"
     ]
    },
    {
     "name": "stdout",
     "output_type": "stream",
     "text": [
      "SAVED TO  Data/example-code/supervised-textbook/checkpoints/textbook2-gpt1600-1700.csv\n",
      "\n"
     ]
    },
    {
     "name": "stderr",
     "output_type": "stream",
     "text": [
      "1801it [4:42:08,  8.64s/it]"
     ]
    },
    {
     "name": "stdout",
     "output_type": "stream",
     "text": [
      "SAVED TO  Data/example-code/supervised-textbook/checkpoints/textbook2-gpt1700-1800.csv\n",
      "\n"
     ]
    },
    {
     "name": "stderr",
     "output_type": "stream",
     "text": [
      "1901it [4:56:33,  3.51s/it]"
     ]
    },
    {
     "name": "stdout",
     "output_type": "stream",
     "text": [
      "SAVED TO  Data/example-code/supervised-textbook/checkpoints/textbook2-gpt1800-1900.csv\n",
      "\n"
     ]
    },
    {
     "name": "stderr",
     "output_type": "stream",
     "text": [
      "2001it [5:14:37, 10.42s/it]"
     ]
    },
    {
     "name": "stdout",
     "output_type": "stream",
     "text": [
      "SAVED TO  Data/example-code/supervised-textbook/checkpoints/textbook2-gpt1900-2000.csv\n",
      "\n"
     ]
    },
    {
     "name": "stderr",
     "output_type": "stream",
     "text": [
      "2101it [5:36:44, 11.52s/it]"
     ]
    },
    {
     "name": "stdout",
     "output_type": "stream",
     "text": [
      "SAVED TO  Data/example-code/supervised-textbook/checkpoints/textbook2-gpt2000-2100.csv\n",
      "\n"
     ]
    },
    {
     "name": "stderr",
     "output_type": "stream",
     "text": [
      "2201it [5:55:34, 10.03s/it]"
     ]
    },
    {
     "name": "stdout",
     "output_type": "stream",
     "text": [
      "SAVED TO  Data/example-code/supervised-textbook/checkpoints/textbook2-gpt2100-2200.csv\n",
      "\n"
     ]
    },
    {
     "name": "stderr",
     "output_type": "stream",
     "text": [
      "2301it [6:19:30, 20.47s/it]"
     ]
    },
    {
     "name": "stdout",
     "output_type": "stream",
     "text": [
      "SAVED TO  Data/example-code/supervised-textbook/checkpoints/textbook2-gpt2200-2300.csv\n",
      "\n"
     ]
    },
    {
     "name": "stderr",
     "output_type": "stream",
     "text": [
      "2401it [6:39:26, 12.80s/it]"
     ]
    },
    {
     "name": "stdout",
     "output_type": "stream",
     "text": [
      "SAVED TO  Data/example-code/supervised-textbook/checkpoints/textbook2-gpt2300-2400.csv\n",
      "\n"
     ]
    },
    {
     "name": "stderr",
     "output_type": "stream",
     "text": [
      "2501it [7:00:57, 13.59s/it]"
     ]
    },
    {
     "name": "stdout",
     "output_type": "stream",
     "text": [
      "SAVED TO  Data/example-code/supervised-textbook/checkpoints/textbook2-gpt2400-2500.csv\n",
      "\n"
     ]
    },
    {
     "name": "stderr",
     "output_type": "stream",
     "text": [
      "2601it [7:25:28,  7.53s/it]"
     ]
    },
    {
     "name": "stdout",
     "output_type": "stream",
     "text": [
      "SAVED TO  Data/example-code/supervised-textbook/checkpoints/textbook2-gpt2500-2600.csv\n",
      "\n"
     ]
    },
    {
     "name": "stderr",
     "output_type": "stream",
     "text": [
      "2701it [7:50:29, 17.85s/it]"
     ]
    },
    {
     "name": "stdout",
     "output_type": "stream",
     "text": [
      "SAVED TO  Data/example-code/supervised-textbook/checkpoints/textbook2-gpt2600-2700.csv\n",
      "\n"
     ]
    },
    {
     "name": "stderr",
     "output_type": "stream",
     "text": [
      "2801it [8:13:36, 13.48s/it]"
     ]
    },
    {
     "name": "stdout",
     "output_type": "stream",
     "text": [
      "SAVED TO  Data/example-code/supervised-textbook/checkpoints/textbook2-gpt2700-2800.csv\n",
      "\n"
     ]
    },
    {
     "name": "stderr",
     "output_type": "stream",
     "text": [
      "2901it [8:30:28,  3.37s/it]"
     ]
    },
    {
     "name": "stdout",
     "output_type": "stream",
     "text": [
      "SAVED TO  Data/example-code/supervised-textbook/checkpoints/textbook2-gpt2800-2900.csv\n",
      "\n"
     ]
    },
    {
     "name": "stderr",
     "output_type": "stream",
     "text": [
      "3001it [8:39:17,  3.54s/it]"
     ]
    },
    {
     "name": "stdout",
     "output_type": "stream",
     "text": [
      "SAVED TO  Data/example-code/supervised-textbook/checkpoints/textbook2-gpt2900-3000.csv\n",
      "\n"
     ]
    },
    {
     "name": "stderr",
     "output_type": "stream",
     "text": [
      "3101it [8:47:08, 12.40s/it]"
     ]
    },
    {
     "name": "stdout",
     "output_type": "stream",
     "text": [
      "SAVED TO  Data/example-code/supervised-textbook/checkpoints/textbook2-gpt3000-3100.csv\n",
      "\n"
     ]
    },
    {
     "name": "stderr",
     "output_type": "stream",
     "text": [
      "3201it [9:04:19, 10.73s/it]"
     ]
    },
    {
     "name": "stdout",
     "output_type": "stream",
     "text": [
      "SAVED TO  Data/example-code/supervised-textbook/checkpoints/textbook2-gpt3100-3200.csv\n",
      "\n"
     ]
    },
    {
     "name": "stderr",
     "output_type": "stream",
     "text": [
      "3301it [9:30:10, 17.87s/it]"
     ]
    },
    {
     "name": "stdout",
     "output_type": "stream",
     "text": [
      "SAVED TO  Data/example-code/supervised-textbook/checkpoints/textbook2-gpt3200-3300.csv\n",
      "\n"
     ]
    },
    {
     "name": "stderr",
     "output_type": "stream",
     "text": [
      "3401it [9:53:43, 15.81s/it]"
     ]
    },
    {
     "name": "stdout",
     "output_type": "stream",
     "text": [
      "SAVED TO  Data/example-code/supervised-textbook/checkpoints/textbook2-gpt3300-3400.csv\n",
      "\n"
     ]
    },
    {
     "name": "stderr",
     "output_type": "stream",
     "text": [
      "3501it [10:19:28, 17.66s/it]"
     ]
    },
    {
     "name": "stdout",
     "output_type": "stream",
     "text": [
      "SAVED TO  Data/example-code/supervised-textbook/checkpoints/textbook2-gpt3400-3500.csv\n",
      "\n"
     ]
    },
    {
     "name": "stderr",
     "output_type": "stream",
     "text": [
      "3601it [10:39:15, 13.96s/it]"
     ]
    },
    {
     "name": "stdout",
     "output_type": "stream",
     "text": [
      "SAVED TO  Data/example-code/supervised-textbook/checkpoints/textbook2-gpt3500-3600.csv\n",
      "\n"
     ]
    },
    {
     "name": "stderr",
     "output_type": "stream",
     "text": [
      "3701it [11:00:34,  6.48s/it]"
     ]
    },
    {
     "name": "stdout",
     "output_type": "stream",
     "text": [
      "SAVED TO  Data/example-code/supervised-textbook/checkpoints/textbook2-gpt3600-3700.csv\n",
      "\n"
     ]
    },
    {
     "name": "stderr",
     "output_type": "stream",
     "text": [
      "3801it [11:18:59, 13.96s/it]"
     ]
    },
    {
     "name": "stdout",
     "output_type": "stream",
     "text": [
      "SAVED TO  Data/example-code/supervised-textbook/checkpoints/textbook2-gpt3700-3800.csv\n",
      "\n"
     ]
    },
    {
     "name": "stderr",
     "output_type": "stream",
     "text": [
      "3901it [11:35:52,  5.68s/it]"
     ]
    },
    {
     "name": "stdout",
     "output_type": "stream",
     "text": [
      "SAVED TO  Data/example-code/supervised-textbook/checkpoints/textbook2-gpt3800-3900.csv\n",
      "\n"
     ]
    },
    {
     "name": "stderr",
     "output_type": "stream",
     "text": [
      "3972it [11:49:07, 10.71s/it]"
     ]
    },
    {
     "name": "stdout",
     "output_type": "stream",
     "text": [
      "SAVED TO  Data/example-code/supervised-textbook/checkpoints/textbook2-gpt3871-3971.csv\n",
      "\n"
     ]
    },
    {
     "name": "stderr",
     "output_type": "stream",
     "text": [
      "\n"
     ]
    }
   ],
   "source": [
    "# process them\n",
    "results = []\n",
    "# checkpointing\n",
    "checkpoint_dir = \"Data/example-code/supervised-textbook/checkpoints/textbook2-gpt\"\n",
    "delim = 100 if len(ims) > 100 else len(ims)\n",
    "print(\"Processing textbooks with checkpoints every\", delim)\n",
    "for i, im in tqdm(enumerate(ims)):\n",
    "    results.append(extract_code(im, 2))\n",
    "    if i > 0 and ((i%delim) == 0 or i >= (len(ims)-1)):  # save partial execution\n",
    "        df = pd.DataFrame(results, columns=[\"image_directory\", \"isComplete\", \"raw_code\", \"code\", \"caption\", \"quesiton\"])\n",
    "        save_dir = checkpoint_dir+str(i-delim)+\"-\"+str(i)+\".csv\"\n",
    "        df.to_csv(save_dir, index=False)\n",
    "        print(\"SAVED TO \", save_dir)\n",
    "        print()\n",
    "        results = []"
   ]
  },
  {
   "cell_type": "code",
   "execution_count": 94,
   "id": "bcb3ad93",
   "metadata": {},
   "outputs": [
    {
     "name": "stdout",
     "output_type": "stream",
     "text": [
      "Found 171 checkpoints from local...\n",
      "Found 96 checkpoints from google colab...\n"
     ]
    }
   ],
   "source": [
    "# Load all checkpoints for processing\n",
    "results_dir = \"Data/example-code/supervised-textbook/checkpoints/\"\n",
    "all_results = [results_dir+file for file in os.listdir(results_dir) if '.csv' in file]\n",
    "print(\"Found\", len(all_results), \"checkpoints from local...\")\n",
    "\n",
    "results_dir2 = \"Data/example-code/supervised-textbook/gcloud-checkpoints/\"\n",
    "all_results2 = [results_dir2+file for file in os.listdir(results_dir2) if '.csv' in file]\n",
    "print(\"Found\", len(all_results2), \"checkpoints from google colab...\")"
   ]
  },
  {
   "cell_type": "code",
   "execution_count": 95,
   "id": "eb1b38be",
   "metadata": {},
   "outputs": [
    {
     "data": {
      "text/html": [
       "<div>\n",
       "<style scoped>\n",
       "    .dataframe tbody tr th:only-of-type {\n",
       "        vertical-align: middle;\n",
       "    }\n",
       "\n",
       "    .dataframe tbody tr th {\n",
       "        vertical-align: top;\n",
       "    }\n",
       "\n",
       "    .dataframe thead th {\n",
       "        text-align: right;\n",
       "    }\n",
       "</style>\n",
       "<table border=\"1\" class=\"dataframe\">\n",
       "  <thead>\n",
       "    <tr style=\"text-align: right;\">\n",
       "      <th></th>\n",
       "      <th>image_directory</th>\n",
       "      <th>isComplete</th>\n",
       "      <th>raw_code</th>\n",
       "      <th>code</th>\n",
       "      <th>caption</th>\n",
       "    </tr>\n",
       "  </thead>\n",
       "  <tbody>\n",
       "    <tr>\n",
       "      <th>0</th>\n",
       "      <td>Data/example-code/supervised-textbook/paginate...</td>\n",
       "      <td>False</td>\n",
       "      <td>NO CODE</td>\n",
       "      <td>NaN</td>\n",
       "      <td>NaN</td>\n",
       "    </tr>\n",
       "    <tr>\n",
       "      <th>1</th>\n",
       "      <td>Data/example-code/supervised-textbook/paginate...</td>\n",
       "      <td>False</td>\n",
       "      <td>NO CODE</td>\n",
       "      <td>NaN</td>\n",
       "      <td>NaN</td>\n",
       "    </tr>\n",
       "    <tr>\n",
       "      <th>2</th>\n",
       "      <td>Data/example-code/supervised-textbook/paginate...</td>\n",
       "      <td>True</td>\n",
       "      <td>The image contains text describing functions r...</td>\n",
       "      <td>f_putp(n, value)\\nvoid tf_iputp(n, value, tfin...</td>\n",
       "      <td>Caption: \"The image shows a page from 'The Ver...</td>\n",
       "    </tr>\n",
       "    <tr>\n",
       "      <th>3</th>\n",
       "      <td>Data/example-code/supervised-textbook/paginate...</td>\n",
       "      <td>True</td>\n",
       "      <td>The image contains Verilog code as part of an ...</td>\n",
       "      <td>\\nmodule event_monitor (ck, reset_n, test);\\n ...</td>\n",
       "      <td>The image shows a snippet of a textbook or doc...</td>\n",
       "    </tr>\n",
       "    <tr>\n",
       "      <th>4</th>\n",
       "      <td>Data/example-code/supervised-textbook/paginate...</td>\n",
       "      <td>True</td>\n",
       "      <td>The image contains structures defined in Veril...</td>\n",
       "      <td>ef struct t_vpi_value {\\n    int format; /* vp...</td>\n",
       "      <td>Caption: \"Excerpt from The Verilog PLI Handboo...</td>\n",
       "    </tr>\n",
       "    <tr>\n",
       "      <th>...</th>\n",
       "      <td>...</td>\n",
       "      <td>...</td>\n",
       "      <td>...</td>\n",
       "      <td>...</td>\n",
       "      <td>...</td>\n",
       "    </tr>\n",
       "    <tr>\n",
       "      <th>95</th>\n",
       "      <td>/content/drive/MyDrive/gpt_pipeline/pages/Hamb...</td>\n",
       "      <td>True</td>\n",
       "      <td>The image contains an example of Verilog code....</td>\n",
       "      <td>\\nENTITY orgate IS\\nPORT(\\n  PB1, PB2 : IN  ST...</td>\n",
       "      <td>VHDL entity declaration code and documentation...</td>\n",
       "    </tr>\n",
       "    <tr>\n",
       "      <th>96</th>\n",
       "      <td>/content/drive/MyDrive/gpt_pipeline/pages/Hamb...</td>\n",
       "      <td>True</td>\n",
       "      <td>The image contains some Verilog code. Here is ...</td>\n",
       "      <td>\\nLIBRARY IEEE;\\nUSE IEEE.STD_LOGIC_1164.all;\\...</td>\n",
       "      <td>Verilog code snippet for an OR-gate model with...</td>\n",
       "    </tr>\n",
       "    <tr>\n",
       "      <th>97</th>\n",
       "      <td>/content/drive/MyDrive/gpt_pipeline/pages/Hamb...</td>\n",
       "      <td>True</td>\n",
       "      <td>There is a line of code in the VHDL language i...</td>\n",
       "      <td>NOT ( NOT PB1 OR NOT PB2 );\\n</td>\n",
       "      <td>This image shows a page from a tutorial provid...</td>\n",
       "    </tr>\n",
       "    <tr>\n",
       "      <th>98</th>\n",
       "      <td>/content/drive/MyDrive/gpt_pipeline/pages/Hamb...</td>\n",
       "      <td>True</td>\n",
       "      <td>The image contains a small snippet of Verilog ...</td>\n",
       "      <td>+ C;\\n</td>\n",
       "      <td>The image shows a screenshot of an error messa...</td>\n",
       "    </tr>\n",
       "    <tr>\n",
       "      <th>99</th>\n",
       "      <td>/content/drive/MyDrive/gpt_pipeline/pages/Hamb...</td>\n",
       "      <td>True</td>\n",
       "      <td>The image contains a snippet of Verilog code. ...</td>\n",
       "      <td>\\nmodule orgate( PB1, PB2, LED );\\n\\n    input...</td>\n",
       "      <td>The image shows a tutorial page describing ste...</td>\n",
       "    </tr>\n",
       "  </tbody>\n",
       "</table>\n",
       "<p>26552 rows × 5 columns</p>\n",
       "</div>"
      ],
      "text/plain": [
       "                                      image_directory  isComplete  \\\n",
       "0   Data/example-code/supervised-textbook/paginate...       False   \n",
       "1   Data/example-code/supervised-textbook/paginate...       False   \n",
       "2   Data/example-code/supervised-textbook/paginate...        True   \n",
       "3   Data/example-code/supervised-textbook/paginate...        True   \n",
       "4   Data/example-code/supervised-textbook/paginate...        True   \n",
       "..                                                ...         ...   \n",
       "95  /content/drive/MyDrive/gpt_pipeline/pages/Hamb...        True   \n",
       "96  /content/drive/MyDrive/gpt_pipeline/pages/Hamb...        True   \n",
       "97  /content/drive/MyDrive/gpt_pipeline/pages/Hamb...        True   \n",
       "98  /content/drive/MyDrive/gpt_pipeline/pages/Hamb...        True   \n",
       "99  /content/drive/MyDrive/gpt_pipeline/pages/Hamb...        True   \n",
       "\n",
       "                                             raw_code  \\\n",
       "0                                             NO CODE   \n",
       "1                                             NO CODE   \n",
       "2   The image contains text describing functions r...   \n",
       "3   The image contains Verilog code as part of an ...   \n",
       "4   The image contains structures defined in Veril...   \n",
       "..                                                ...   \n",
       "95  The image contains an example of Verilog code....   \n",
       "96  The image contains some Verilog code. Here is ...   \n",
       "97  There is a line of code in the VHDL language i...   \n",
       "98  The image contains a small snippet of Verilog ...   \n",
       "99  The image contains a snippet of Verilog code. ...   \n",
       "\n",
       "                                                 code  \\\n",
       "0                                                 NaN   \n",
       "1                                                 NaN   \n",
       "2   f_putp(n, value)\\nvoid tf_iputp(n, value, tfin...   \n",
       "3   \\nmodule event_monitor (ck, reset_n, test);\\n ...   \n",
       "4   ef struct t_vpi_value {\\n    int format; /* vp...   \n",
       "..                                                ...   \n",
       "95  \\nENTITY orgate IS\\nPORT(\\n  PB1, PB2 : IN  ST...   \n",
       "96  \\nLIBRARY IEEE;\\nUSE IEEE.STD_LOGIC_1164.all;\\...   \n",
       "97                      NOT ( NOT PB1 OR NOT PB2 );\\n   \n",
       "98                                             + C;\\n   \n",
       "99  \\nmodule orgate( PB1, PB2, LED );\\n\\n    input...   \n",
       "\n",
       "                                              caption  \n",
       "0                                                 NaN  \n",
       "1                                                 NaN  \n",
       "2   Caption: \"The image shows a page from 'The Ver...  \n",
       "3   The image shows a snippet of a textbook or doc...  \n",
       "4   Caption: \"Excerpt from The Verilog PLI Handboo...  \n",
       "..                                                ...  \n",
       "95  VHDL entity declaration code and documentation...  \n",
       "96  Verilog code snippet for an OR-gate model with...  \n",
       "97  This image shows a page from a tutorial provid...  \n",
       "98  The image shows a screenshot of an error messa...  \n",
       "99  The image shows a tutorial page describing ste...  \n",
       "\n",
       "[26552 rows x 5 columns]"
      ]
     },
     "execution_count": 95,
     "metadata": {},
     "output_type": "execute_result"
    }
   ],
   "source": [
    "df = pd.concat([pd.read_csv(my_dir) for my_dir in all_results+all_results2])\n",
    "df"
   ]
  },
  {
   "cell_type": "code",
   "execution_count": 102,
   "id": "5e7c463f",
   "metadata": {},
   "outputs": [
    {
     "data": {
      "text/html": [
       "<div>\n",
       "<style scoped>\n",
       "    .dataframe tbody tr th:only-of-type {\n",
       "        vertical-align: middle;\n",
       "    }\n",
       "\n",
       "    .dataframe tbody tr th {\n",
       "        vertical-align: top;\n",
       "    }\n",
       "\n",
       "    .dataframe thead th {\n",
       "        text-align: right;\n",
       "    }\n",
       "</style>\n",
       "<table border=\"1\" class=\"dataframe\">\n",
       "  <thead>\n",
       "    <tr style=\"text-align: right;\">\n",
       "      <th></th>\n",
       "      <th>image_directory</th>\n",
       "      <th>isComplete</th>\n",
       "      <th>raw_code</th>\n",
       "      <th>code</th>\n",
       "      <th>caption</th>\n",
       "      <th>file_name</th>\n",
       "      <th>code_lines</th>\n",
       "    </tr>\n",
       "  </thead>\n",
       "  <tbody>\n",
       "    <tr>\n",
       "      <th>63</th>\n",
       "      <td>/content/drive/MyDrive/gpt_pipeline/pages/Cohe...</td>\n",
       "      <td>True</td>\n",
       "      <td>The image contains VHDL (VHSIC Hardware Descri...</td>\n",
       "      <td>ation_list::=\\n  association_element { , assoc...</td>\n",
       "      <td>The image shows two pages from a book detailin...</td>\n",
       "      <td>Cohen1999_Book_VHDLCodingStylesAndMethodologi_...</td>\n",
       "      <td>112</td>\n",
       "    </tr>\n",
       "    <tr>\n",
       "      <th>57</th>\n",
       "      <td>/content/drive/MyDrive/gpt_pipeline/pages/Golz...</td>\n",
       "      <td>True</td>\n",
       "      <td>The image contains Verilog code, which is a ha...</td>\n",
       "      <td>\\nreg\\n  RESET,\\n  HLT;\\n  \\n// Instances\\n\\n/...</td>\n",
       "      <td>Verilog code defining instances for memory, pr...</td>\n",
       "      <td>Golze1996_Book_VLSIChipDesignWithTheHardwareD_...</td>\n",
       "      <td>94</td>\n",
       "    </tr>\n",
       "    <tr>\n",
       "      <th>0</th>\n",
       "      <td>Data/example-code/supervised-textbook/extra-pa...</td>\n",
       "      <td>True</td>\n",
       "      <td>The image contains examples of Verilog code. H...</td>\n",
       "      <td>\\nmodule dff_lab;\\n// Concatenating ports by n...</td>\n",
       "      <td>Quick Reference for Verilog HDL including exam...</td>\n",
       "      <td>VerilogQuickRef_p5.jpg</td>\n",
       "      <td>92</td>\n",
       "    </tr>\n",
       "    <tr>\n",
       "      <th>61</th>\n",
       "      <td>/content/drive/MyDrive/gpt_pipeline/pages/Golz...</td>\n",
       "      <td>True</td>\n",
       "      <td>The image contains Verilog code. Here is the c...</td>\n",
       "      <td>\\nif (SR_VAL[`CCODE]) // branch condition\\n  b...</td>\n",
       "      <td>Verilog code implementing a CPU control logic ...</td>\n",
       "      <td>Golze1996_Book_VLSIChipDesignWithTheHardwareD_...</td>\n",
       "      <td>89</td>\n",
       "    </tr>\n",
       "    <tr>\n",
       "      <th>56</th>\n",
       "      <td>/content/drive/MyDrive/gpt_pipeline/pages/Golz...</td>\n",
       "      <td>True</td>\n",
       "      <td>The image contains Verilog code which is a har...</td>\n",
       "      <td>\\nAddrsize = 12, // address bus width\\nSimtime...</td>\n",
       "      <td>Verilog HDL code defining constants, opcodes, ...</td>\n",
       "      <td>Golze1996_Book_VLSIChipDesignWithTheHardwareD_...</td>\n",
       "      <td>88</td>\n",
       "    </tr>\n",
       "    <tr>\n",
       "      <th>...</th>\n",
       "      <td>...</td>\n",
       "      <td>...</td>\n",
       "      <td>...</td>\n",
       "      <td>...</td>\n",
       "      <td>...</td>\n",
       "      <td>...</td>\n",
       "      <td>...</td>\n",
       "    </tr>\n",
       "    <tr>\n",
       "      <th>21</th>\n",
       "      <td>Data/example-code/supervised-textbook/extra-pa...</td>\n",
       "      <td>False</td>\n",
       "      <td>NO CODE</td>\n",
       "      <td>NaN</td>\n",
       "      <td>NaN</td>\n",
       "      <td>Digital Design With an Introduction to the Ver...</td>\n",
       "      <td>1</td>\n",
       "    </tr>\n",
       "    <tr>\n",
       "      <th>22</th>\n",
       "      <td>Data/example-code/supervised-textbook/extra-pa...</td>\n",
       "      <td>False</td>\n",
       "      <td>NO CODE</td>\n",
       "      <td>NaN</td>\n",
       "      <td>NaN</td>\n",
       "      <td>FPGA-Design_Mit_Verilog_p18.jpg</td>\n",
       "      <td>1</td>\n",
       "    </tr>\n",
       "    <tr>\n",
       "      <th>25</th>\n",
       "      <td>Data/example-code/supervised-textbook/extra-pa...</td>\n",
       "      <td>False</td>\n",
       "      <td>NO CODE</td>\n",
       "      <td>NaN</td>\n",
       "      <td>NaN</td>\n",
       "      <td>9781601982193-summary_p16.jpg</td>\n",
       "      <td>1</td>\n",
       "    </tr>\n",
       "    <tr>\n",
       "      <th>26</th>\n",
       "      <td>Data/example-code/supervised-textbook/extra-pa...</td>\n",
       "      <td>False</td>\n",
       "      <td>NO CODE</td>\n",
       "      <td>NaN</td>\n",
       "      <td>NaN</td>\n",
       "      <td>Digital Design With an Introduction to the Ver...</td>\n",
       "      <td>1</td>\n",
       "    </tr>\n",
       "    <tr>\n",
       "      <th>1</th>\n",
       "      <td>Data/example-code/supervised-textbook/extra-pa...</td>\n",
       "      <td>False</td>\n",
       "      <td>NO CODE</td>\n",
       "      <td>NaN</td>\n",
       "      <td>NaN</td>\n",
       "      <td>Fundamentals of Digital Logic with Verilog Des...</td>\n",
       "      <td>1</td>\n",
       "    </tr>\n",
       "  </tbody>\n",
       "</table>\n",
       "<p>26552 rows × 7 columns</p>\n",
       "</div>"
      ],
      "text/plain": [
       "                                      image_directory  isComplete  \\\n",
       "63  /content/drive/MyDrive/gpt_pipeline/pages/Cohe...        True   \n",
       "57  /content/drive/MyDrive/gpt_pipeline/pages/Golz...        True   \n",
       "0   Data/example-code/supervised-textbook/extra-pa...        True   \n",
       "61  /content/drive/MyDrive/gpt_pipeline/pages/Golz...        True   \n",
       "56  /content/drive/MyDrive/gpt_pipeline/pages/Golz...        True   \n",
       "..                                                ...         ...   \n",
       "21  Data/example-code/supervised-textbook/extra-pa...       False   \n",
       "22  Data/example-code/supervised-textbook/extra-pa...       False   \n",
       "25  Data/example-code/supervised-textbook/extra-pa...       False   \n",
       "26  Data/example-code/supervised-textbook/extra-pa...       False   \n",
       "1   Data/example-code/supervised-textbook/extra-pa...       False   \n",
       "\n",
       "                                             raw_code  \\\n",
       "63  The image contains VHDL (VHSIC Hardware Descri...   \n",
       "57  The image contains Verilog code, which is a ha...   \n",
       "0   The image contains examples of Verilog code. H...   \n",
       "61  The image contains Verilog code. Here is the c...   \n",
       "56  The image contains Verilog code which is a har...   \n",
       "..                                                ...   \n",
       "21                                            NO CODE   \n",
       "22                                            NO CODE   \n",
       "25                                            NO CODE   \n",
       "26                                            NO CODE   \n",
       "1                                             NO CODE   \n",
       "\n",
       "                                                 code  \\\n",
       "63  ation_list::=\\n  association_element { , assoc...   \n",
       "57  \\nreg\\n  RESET,\\n  HLT;\\n  \\n// Instances\\n\\n/...   \n",
       "0   \\nmodule dff_lab;\\n// Concatenating ports by n...   \n",
       "61  \\nif (SR_VAL[`CCODE]) // branch condition\\n  b...   \n",
       "56  \\nAddrsize = 12, // address bus width\\nSimtime...   \n",
       "..                                                ...   \n",
       "21                                                NaN   \n",
       "22                                                NaN   \n",
       "25                                                NaN   \n",
       "26                                                NaN   \n",
       "1                                                 NaN   \n",
       "\n",
       "                                              caption  \\\n",
       "63  The image shows two pages from a book detailin...   \n",
       "57  Verilog code defining instances for memory, pr...   \n",
       "0   Quick Reference for Verilog HDL including exam...   \n",
       "61  Verilog code implementing a CPU control logic ...   \n",
       "56  Verilog HDL code defining constants, opcodes, ...   \n",
       "..                                                ...   \n",
       "21                                                NaN   \n",
       "22                                                NaN   \n",
       "25                                                NaN   \n",
       "26                                                NaN   \n",
       "1                                                 NaN   \n",
       "\n",
       "                                            file_name  code_lines  \n",
       "63  Cohen1999_Book_VHDLCodingStylesAndMethodologi_...         112  \n",
       "57  Golze1996_Book_VLSIChipDesignWithTheHardwareD_...          94  \n",
       "0                              VerilogQuickRef_p5.jpg          92  \n",
       "61  Golze1996_Book_VLSIChipDesignWithTheHardwareD_...          89  \n",
       "56  Golze1996_Book_VLSIChipDesignWithTheHardwareD_...          88  \n",
       "..                                                ...         ...  \n",
       "21  Digital Design With an Introduction to the Ver...           1  \n",
       "22                    FPGA-Design_Mit_Verilog_p18.jpg           1  \n",
       "25                      9781601982193-summary_p16.jpg           1  \n",
       "26  Digital Design With an Introduction to the Ver...           1  \n",
       "1   Fundamentals of Digital Logic with Verilog Des...           1  \n",
       "\n",
       "[26552 rows x 7 columns]"
      ]
     },
     "execution_count": 102,
     "metadata": {},
     "output_type": "execute_result"
    }
   ],
   "source": [
    "# df[\"file_name\"] = df[\"image_directory\"].apply(lambda x: str(x).split('/')[-1])\n",
    "df[\"code_lines\"] = df[\"code\"].apply(lambda x: len(str(x).split('\\n')))\n",
    "df.sort_values(\"code_lines\", ascending=False)"
   ]
  },
  {
   "cell_type": "code",
   "execution_count": 103,
   "id": "f2af1b36",
   "metadata": {},
   "outputs": [
    {
     "data": {
      "text/plain": [
       "True     13477\n",
       "False    13075\n",
       "Name: isComplete, dtype: int64"
      ]
     },
     "execution_count": 103,
     "metadata": {},
     "output_type": "execute_result"
    }
   ],
   "source": [
    "df[\"isComplete\"].value_counts()"
   ]
  },
  {
   "cell_type": "code",
   "execution_count": 100,
   "id": "98071d24",
   "metadata": {},
   "outputs": [
    {
     "data": {
      "text/html": [
       "<div>\n",
       "<style scoped>\n",
       "    .dataframe tbody tr th:only-of-type {\n",
       "        vertical-align: middle;\n",
       "    }\n",
       "\n",
       "    .dataframe tbody tr th {\n",
       "        vertical-align: top;\n",
       "    }\n",
       "\n",
       "    .dataframe thead th {\n",
       "        text-align: right;\n",
       "    }\n",
       "</style>\n",
       "<table border=\"1\" class=\"dataframe\">\n",
       "  <thead>\n",
       "    <tr style=\"text-align: right;\">\n",
       "      <th></th>\n",
       "      <th>code_lines</th>\n",
       "    </tr>\n",
       "  </thead>\n",
       "  <tbody>\n",
       "    <tr>\n",
       "      <th>count</th>\n",
       "      <td>13477.000000</td>\n",
       "    </tr>\n",
       "    <tr>\n",
       "      <th>mean</th>\n",
       "      <td>21.285969</td>\n",
       "    </tr>\n",
       "    <tr>\n",
       "      <th>std</th>\n",
       "      <td>14.124173</td>\n",
       "    </tr>\n",
       "    <tr>\n",
       "      <th>min</th>\n",
       "      <td>2.000000</td>\n",
       "    </tr>\n",
       "    <tr>\n",
       "      <th>25%</th>\n",
       "      <td>10.000000</td>\n",
       "    </tr>\n",
       "    <tr>\n",
       "      <th>50%</th>\n",
       "      <td>18.000000</td>\n",
       "    </tr>\n",
       "    <tr>\n",
       "      <th>75%</th>\n",
       "      <td>29.000000</td>\n",
       "    </tr>\n",
       "    <tr>\n",
       "      <th>max</th>\n",
       "      <td>112.000000</td>\n",
       "    </tr>\n",
       "  </tbody>\n",
       "</table>\n",
       "</div>"
      ],
      "text/plain": [
       "         code_lines\n",
       "count  13477.000000\n",
       "mean      21.285969\n",
       "std       14.124173\n",
       "min        2.000000\n",
       "25%       10.000000\n",
       "50%       18.000000\n",
       "75%       29.000000\n",
       "max      112.000000"
      ]
     },
     "execution_count": 100,
     "metadata": {},
     "output_type": "execute_result"
    }
   ],
   "source": [
    "df[df[\"isComplete\"]==True].describe()"
   ]
  },
  {
   "cell_type": "code",
   "execution_count": 89,
   "id": "21e2ff81",
   "metadata": {},
   "outputs": [
    {
     "name": "stdout",
     "output_type": "stream",
     "text": [
      "num duplicates 0\n"
     ]
    }
   ],
   "source": [
    "dirs = list(df[\"image_directory\"])\n",
    "diff = len(dirs) - len(set(dirs))\n",
    "print(\"num duplicates\", diff)"
   ]
  },
  {
   "cell_type": "code",
   "execution_count": 90,
   "id": "bb429ffb",
   "metadata": {},
   "outputs": [
    {
     "name": "stdout",
     "output_type": "stream",
     "text": [
      "0\n",
      "[]\n"
     ]
    }
   ],
   "source": [
    "ims2 = sorted([file.split('/')[-1] for file in ims if file not in list(df[\"image_directory\"])])\n",
    "print(len(ims2))\n",
    "print(ims2)"
   ]
  },
  {
   "cell_type": "markdown",
   "id": "7f30a59a",
   "metadata": {},
   "source": [
    "### Cleaning & Saving"
   ]
  },
  {
   "cell_type": "code",
   "execution_count": 91,
   "id": "f0191292",
   "metadata": {},
   "outputs": [
    {
     "name": "stdout",
     "output_type": "stream",
     "text": [
      "found 4 rows with bad requests and a total of 4 cells of bad calls\n",
      "4 of which where unique and 0 of which were identified as copyright related\n",
      "\n",
      "an example of this is:\n",
      " I'm sorry, but there seems to be a misunderstanding. The code in this image is not Verilog; it is written in the C programming language. The code appears to be part of a book or document discussing the use of Programming Language Interface (PLI) in C for interacting with Verilog models in simulation.\n",
      "\n",
      "Caption: \"C code excerpt discussing the use of PLI with Verilog models, from a programming documentation book or paper.\"\n"
     ]
    },
    {
     "data": {
      "text/plain": [
       "image_directory        0\n",
       "isComplete             0\n",
       "raw_code               0\n",
       "code               13075\n",
       "caption            13610\n",
       "dtype: int64"
      ]
     },
     "execution_count": 91,
     "metadata": {},
     "output_type": "execute_result"
    }
   ],
   "source": [
    "# df[\"raw_code\"] = df[\"raw_code\"].apply(lambda x: np.nan if x.strip()==bad_message else x)\n",
    "df, failed_count, messages, inds = get_failed_request(df)\n",
    "\n",
    "df.isna().sum()\n",
    "# print(df.iloc[0][\"code\"])\n",
    "\n",
    "# NOTE: only necessary for assertion focus\n",
    "# df = pd.DataFrame(results, columns=[\"image_directory\", \"isComplete\", \"raw_code\", \"code\", \"caption\"])\n",
    "# print(\"Found\", len(df[df[\"isComplete\"]==True]), \"/\", len(df), \"complete rows\")\n",
    "# df[\"hasAssert\"] = df[\"code\"].apply(lambda x: True if 'assert' in str(x).lower() else False)\n",
    "# print(\"Found\", len(df[df[\"hasAssert\"]==True]), \"/\", len(df), \"asserted rows\")\n",
    "# df"
   ]
  },
  {
   "cell_type": "code",
   "execution_count": 93,
   "id": "44ceb023",
   "metadata": {},
   "outputs": [
    {
     "name": "stdout",
     "output_type": "stream",
     "text": [
      "SAVED TO Data/example-code/supervised-textbook/textbook-analysis.csv\n"
     ]
    }
   ],
   "source": [
    "save_dir = \"Data/example-code/supervised-textbook/textbook-analysis.csv\"\n",
    "df.to_csv(save_dir, index=False)\n",
    "print(\"SAVED TO\", save_dir)"
   ]
  },
  {
   "cell_type": "markdown",
   "id": "b6c2b606",
   "metadata": {},
   "source": [
    "### QUESTION Fixup"
   ]
  },
  {
   "cell_type": "code",
   "execution_count": 200,
   "id": "e5bd6559",
   "metadata": {},
   "outputs": [
    {
     "name": "stdout",
     "output_type": "stream",
     "text": [
      "Pretend you are a professional programmer who is given an image containing of Verilog code. Your boss asked you to use the concept shown on the image in your work. \n",
      " ONLY respond with a question you would search on google in order to use the code snippet on this page. Make sure to phrase the question as if you are asking for some help.\n",
      "Here are some examples of how you should format your question:\n",
      "How can I add ___?\n",
      "Give me a module/implementation of a ___.\n",
      "How does ___ work?\n",
      "I want to write Verilog for ___.\n",
      "Explain ___ concept using an example?\n",
      "What is the difference between ___ and ___?\n",
      "\n"
     ]
    }
   ],
   "source": [
    "ask_question = \"ONLY respond with a question you would search on google in order to use the code snippet on this page. Make sure to phrase the question as if you are asking for some help.\"\n",
    "question_examples = \"\"\"Here are some examples of how you should format your question:\n",
    "How can I add ___?\n",
    "Give me a module/implementation of a ___.\n",
    "How does ___ work?\n",
    "I want to write Verilog for ___.\n",
    "Explain ___ concept using an example?\n",
    "What is the difference between ___ and ___?\n",
    "\"\"\"\n",
    "ask_question += '\\n' + question_examples\n",
    "\n",
    "question_role = \"Pretend you are a professional programmer who is given an image containing of Verilog code. Your boss asked you to use the concept shown on the image in your work.\"\n",
    "\n",
    "def fixup(image_path, verbose=False):\n",
    "    \"\"\" takes in the link of a local image and gets information about code on it \"\"\"\n",
    "    base64_image = encode_image(image_path)\n",
    "    image_link = f\"data:image/jpeg;base64,{base64_image}\"\n",
    "    return gpt_image_oneshot(image_link, ask_question, question_role, 2, verbose)\n",
    "print(question_role, '\\n', ask_question)"
   ]
  },
  {
   "cell_type": "code",
   "execution_count": 201,
   "id": "f67644d5",
   "metadata": {},
   "outputs": [
    {
     "name": "stdout",
     "output_type": "stream",
     "text": [
      "Asked: ONLY respond with a question you would search on google in order to use the code snippet on this page. Make sure to phrase the question as if you are asking for some help.\n",
      "Here are some examples of how you should format your question:\n",
      "How can I add ___?\n",
      "Give me a module/implementation of a ___.\n",
      "How does ___ work?\n",
      "I want to write Verilog for ___.\n",
      "Explain ___ concept using an example?\n",
      "What is the difference between ___ and ___?\n",
      "\n",
      "\n",
      "Responded With: How does delay control work in Verilog testbenches?\n"
     ]
    }
   ],
   "source": [
    "ret = fixup(df.sample().iloc[0][\"image_directory\"], True)"
   ]
  },
  {
   "cell_type": "code",
   "execution_count": 202,
   "id": "fc07d6c6",
   "metadata": {},
   "outputs": [
    {
     "name": "stdout",
     "output_type": "stream",
     "text": [
      "Found 8087 items\n"
     ]
    },
    {
     "name": "stderr",
     "output_type": "stream",
     "text": [
      "100it [06:00,  3.75s/it]"
     ]
    },
    {
     "name": "stdout",
     "output_type": "stream",
     "text": [
      "Saved at: Data/example-code/supervised-textbook/questions/q0-100.npy\n"
     ]
    },
    {
     "name": "stderr",
     "output_type": "stream",
     "text": [
      "200it [11:43,  3.52s/it]"
     ]
    },
    {
     "name": "stdout",
     "output_type": "stream",
     "text": [
      "Saved at: Data/example-code/supervised-textbook/questions/q100-200.npy\n"
     ]
    },
    {
     "name": "stderr",
     "output_type": "stream",
     "text": [
      "300it [17:29,  3.36s/it]"
     ]
    },
    {
     "name": "stdout",
     "output_type": "stream",
     "text": [
      "Saved at: Data/example-code/supervised-textbook/questions/q200-300.npy\n"
     ]
    },
    {
     "name": "stderr",
     "output_type": "stream",
     "text": [
      "400it [23:21,  3.23s/it]"
     ]
    },
    {
     "name": "stdout",
     "output_type": "stream",
     "text": [
      "Saved at: Data/example-code/supervised-textbook/questions/q300-400.npy\n"
     ]
    },
    {
     "name": "stderr",
     "output_type": "stream",
     "text": [
      "500it [29:05,  3.02s/it]"
     ]
    },
    {
     "name": "stdout",
     "output_type": "stream",
     "text": [
      "Saved at: Data/example-code/supervised-textbook/questions/q400-500.npy\n"
     ]
    },
    {
     "name": "stderr",
     "output_type": "stream",
     "text": [
      "600it [34:59,  3.69s/it]"
     ]
    },
    {
     "name": "stdout",
     "output_type": "stream",
     "text": [
      "Saved at: Data/example-code/supervised-textbook/questions/q500-600.npy\n"
     ]
    },
    {
     "name": "stderr",
     "output_type": "stream",
     "text": [
      "700it [40:37,  3.09s/it]"
     ]
    },
    {
     "name": "stdout",
     "output_type": "stream",
     "text": [
      "Saved at: Data/example-code/supervised-textbook/questions/q600-700.npy\n"
     ]
    },
    {
     "name": "stderr",
     "output_type": "stream",
     "text": [
      "800it [46:15,  3.07s/it]"
     ]
    },
    {
     "name": "stdout",
     "output_type": "stream",
     "text": [
      "Saved at: Data/example-code/supervised-textbook/questions/q700-800.npy\n"
     ]
    },
    {
     "name": "stderr",
     "output_type": "stream",
     "text": [
      "900it [51:51,  3.41s/it]"
     ]
    },
    {
     "name": "stdout",
     "output_type": "stream",
     "text": [
      "Saved at: Data/example-code/supervised-textbook/questions/q800-900.npy\n"
     ]
    },
    {
     "name": "stderr",
     "output_type": "stream",
     "text": [
      "1000it [57:40,  3.63s/it]"
     ]
    },
    {
     "name": "stdout",
     "output_type": "stream",
     "text": [
      "Saved at: Data/example-code/supervised-textbook/questions/q900-1000.npy\n"
     ]
    },
    {
     "name": "stderr",
     "output_type": "stream",
     "text": [
      "1100it [1:03:34,  3.22s/it]"
     ]
    },
    {
     "name": "stdout",
     "output_type": "stream",
     "text": [
      "Saved at: Data/example-code/supervised-textbook/questions/q1000-1100.npy\n"
     ]
    },
    {
     "name": "stderr",
     "output_type": "stream",
     "text": [
      "1200it [1:09:02,  2.96s/it]"
     ]
    },
    {
     "name": "stdout",
     "output_type": "stream",
     "text": [
      "Saved at: Data/example-code/supervised-textbook/questions/q1100-1200.npy\n"
     ]
    },
    {
     "name": "stderr",
     "output_type": "stream",
     "text": [
      "1207it [1:09:34,  4.58s/it]"
     ]
    },
    {
     "name": "stdout",
     "output_type": "stream",
     "text": [
      "[Errno 2] No such file or directory: 'Data/example-code/supervised-textbook/pages/ch9-assertions4.jpg'\n",
      "\n",
      "[Errno 2] No such file or directory: 'Data/example-code/supervised-textbook/pages/ch9-assertions1.jpg'\n",
      "\n"
     ]
    },
    {
     "name": "stderr",
     "output_type": "stream",
     "text": [
      "1300it [1:15:03,  3.25s/it]"
     ]
    },
    {
     "name": "stdout",
     "output_type": "stream",
     "text": [
      "Saved at: Data/example-code/supervised-textbook/questions/q1200-1300.npy\n"
     ]
    },
    {
     "name": "stderr",
     "output_type": "stream",
     "text": [
      "1400it [1:20:22,  3.33s/it]"
     ]
    },
    {
     "name": "stdout",
     "output_type": "stream",
     "text": [
      "Saved at: Data/example-code/supervised-textbook/questions/q1300-1400.npy\n"
     ]
    },
    {
     "name": "stderr",
     "output_type": "stream",
     "text": [
      "1500it [1:25:35,  3.66s/it]"
     ]
    },
    {
     "name": "stdout",
     "output_type": "stream",
     "text": [
      "Saved at: Data/example-code/supervised-textbook/questions/q1400-1500.npy\n"
     ]
    },
    {
     "name": "stderr",
     "output_type": "stream",
     "text": [
      "1600it [1:31:05,  3.17s/it]"
     ]
    },
    {
     "name": "stdout",
     "output_type": "stream",
     "text": [
      "Saved at: Data/example-code/supervised-textbook/questions/q1500-1600.npy\n"
     ]
    },
    {
     "name": "stderr",
     "output_type": "stream",
     "text": [
      "1700it [1:36:36,  3.65s/it]"
     ]
    },
    {
     "name": "stdout",
     "output_type": "stream",
     "text": [
      "Saved at: Data/example-code/supervised-textbook/questions/q1600-1700.npy\n"
     ]
    },
    {
     "name": "stderr",
     "output_type": "stream",
     "text": [
      "1800it [1:42:15,  3.83s/it]"
     ]
    },
    {
     "name": "stdout",
     "output_type": "stream",
     "text": [
      "Saved at: Data/example-code/supervised-textbook/questions/q1700-1800.npy\n"
     ]
    },
    {
     "name": "stderr",
     "output_type": "stream",
     "text": [
      "1900it [1:48:07,  3.53s/it]"
     ]
    },
    {
     "name": "stdout",
     "output_type": "stream",
     "text": [
      "Saved at: Data/example-code/supervised-textbook/questions/q1800-1900.npy\n"
     ]
    },
    {
     "name": "stderr",
     "output_type": "stream",
     "text": [
      "2000it [1:54:02,  3.65s/it]"
     ]
    },
    {
     "name": "stdout",
     "output_type": "stream",
     "text": [
      "Saved at: Data/example-code/supervised-textbook/questions/q1900-2000.npy\n"
     ]
    },
    {
     "name": "stderr",
     "output_type": "stream",
     "text": [
      "2100it [1:59:41,  3.64s/it]"
     ]
    },
    {
     "name": "stdout",
     "output_type": "stream",
     "text": [
      "Saved at: Data/example-code/supervised-textbook/questions/q2000-2100.npy\n"
     ]
    },
    {
     "name": "stderr",
     "output_type": "stream",
     "text": [
      "2200it [2:05:35,  3.54s/it]"
     ]
    },
    {
     "name": "stdout",
     "output_type": "stream",
     "text": [
      "Saved at: Data/example-code/supervised-textbook/questions/q2100-2200.npy\n"
     ]
    },
    {
     "name": "stderr",
     "output_type": "stream",
     "text": [
      "2300it [2:10:58,  3.19s/it]"
     ]
    },
    {
     "name": "stdout",
     "output_type": "stream",
     "text": [
      "Saved at: Data/example-code/supervised-textbook/questions/q2200-2300.npy\n"
     ]
    },
    {
     "name": "stderr",
     "output_type": "stream",
     "text": [
      "2400it [2:16:39,  3.40s/it]"
     ]
    },
    {
     "name": "stdout",
     "output_type": "stream",
     "text": [
      "Saved at: Data/example-code/supervised-textbook/questions/q2300-2400.npy\n"
     ]
    },
    {
     "name": "stderr",
     "output_type": "stream",
     "text": [
      "2500it [2:26:03,  6.10s/it]"
     ]
    },
    {
     "name": "stdout",
     "output_type": "stream",
     "text": [
      "Saved at: Data/example-code/supervised-textbook/questions/q2400-2500.npy\n"
     ]
    },
    {
     "name": "stderr",
     "output_type": "stream",
     "text": [
      "2600it [2:34:17,  2.66s/it]"
     ]
    },
    {
     "name": "stdout",
     "output_type": "stream",
     "text": [
      "Saved at: Data/example-code/supervised-textbook/questions/q2500-2600.npy\n"
     ]
    },
    {
     "name": "stderr",
     "output_type": "stream",
     "text": [
      "2700it [2:39:57,  3.94s/it]"
     ]
    },
    {
     "name": "stdout",
     "output_type": "stream",
     "text": [
      "Saved at: Data/example-code/supervised-textbook/questions/q2600-2700.npy\n"
     ]
    },
    {
     "name": "stderr",
     "output_type": "stream",
     "text": [
      "2800it [2:45:07,  3.00s/it]"
     ]
    },
    {
     "name": "stdout",
     "output_type": "stream",
     "text": [
      "Saved at: Data/example-code/supervised-textbook/questions/q2700-2800.npy\n"
     ]
    },
    {
     "name": "stderr",
     "output_type": "stream",
     "text": [
      "2900it [2:50:10,  2.92s/it]"
     ]
    },
    {
     "name": "stdout",
     "output_type": "stream",
     "text": [
      "Saved at: Data/example-code/supervised-textbook/questions/q2800-2900.npy\n"
     ]
    },
    {
     "name": "stderr",
     "output_type": "stream",
     "text": [
      "3000it [2:55:37,  3.28s/it]"
     ]
    },
    {
     "name": "stdout",
     "output_type": "stream",
     "text": [
      "Saved at: Data/example-code/supervised-textbook/questions/q2900-3000.npy\n"
     ]
    },
    {
     "name": "stderr",
     "output_type": "stream",
     "text": [
      "3100it [3:01:13,  3.54s/it]"
     ]
    },
    {
     "name": "stdout",
     "output_type": "stream",
     "text": [
      "Saved at: Data/example-code/supervised-textbook/questions/q3000-3100.npy\n"
     ]
    },
    {
     "name": "stderr",
     "output_type": "stream",
     "text": [
      "3200it [3:06:47,  3.17s/it]"
     ]
    },
    {
     "name": "stdout",
     "output_type": "stream",
     "text": [
      "Saved at: Data/example-code/supervised-textbook/questions/q3100-3200.npy\n"
     ]
    },
    {
     "name": "stderr",
     "output_type": "stream",
     "text": [
      "3300it [3:12:02,  3.14s/it]"
     ]
    },
    {
     "name": "stdout",
     "output_type": "stream",
     "text": [
      "Saved at: Data/example-code/supervised-textbook/questions/q3200-3300.npy\n"
     ]
    },
    {
     "name": "stderr",
     "output_type": "stream",
     "text": [
      "3400it [3:17:26,  2.99s/it]"
     ]
    },
    {
     "name": "stdout",
     "output_type": "stream",
     "text": [
      "Saved at: Data/example-code/supervised-textbook/questions/q3300-3400.npy\n"
     ]
    },
    {
     "name": "stderr",
     "output_type": "stream",
     "text": [
      "3500it [3:22:56,  3.22s/it]"
     ]
    },
    {
     "name": "stdout",
     "output_type": "stream",
     "text": [
      "Saved at: Data/example-code/supervised-textbook/questions/q3400-3500.npy\n"
     ]
    },
    {
     "name": "stderr",
     "output_type": "stream",
     "text": [
      "3600it [3:28:18,  3.03s/it]"
     ]
    },
    {
     "name": "stdout",
     "output_type": "stream",
     "text": [
      "Saved at: Data/example-code/supervised-textbook/questions/q3500-3600.npy\n"
     ]
    },
    {
     "name": "stderr",
     "output_type": "stream",
     "text": [
      "3700it [3:33:17,  2.93s/it]"
     ]
    },
    {
     "name": "stdout",
     "output_type": "stream",
     "text": [
      "Saved at: Data/example-code/supervised-textbook/questions/q3600-3700.npy\n"
     ]
    },
    {
     "name": "stderr",
     "output_type": "stream",
     "text": [
      "3800it [3:38:21,  3.15s/it]"
     ]
    },
    {
     "name": "stdout",
     "output_type": "stream",
     "text": [
      "Saved at: Data/example-code/supervised-textbook/questions/q3700-3800.npy\n"
     ]
    },
    {
     "name": "stderr",
     "output_type": "stream",
     "text": [
      "3900it [3:43:45,  2.89s/it]"
     ]
    },
    {
     "name": "stdout",
     "output_type": "stream",
     "text": [
      "Saved at: Data/example-code/supervised-textbook/questions/q3800-3900.npy\n"
     ]
    },
    {
     "name": "stderr",
     "output_type": "stream",
     "text": [
      "4000it [3:48:51,  3.12s/it]"
     ]
    },
    {
     "name": "stdout",
     "output_type": "stream",
     "text": [
      "Saved at: Data/example-code/supervised-textbook/questions/q3900-4000.npy\n"
     ]
    },
    {
     "name": "stderr",
     "output_type": "stream",
     "text": [
      "4100it [3:54:07,  3.37s/it]"
     ]
    },
    {
     "name": "stdout",
     "output_type": "stream",
     "text": [
      "Saved at: Data/example-code/supervised-textbook/questions/q4000-4100.npy\n"
     ]
    },
    {
     "name": "stderr",
     "output_type": "stream",
     "text": [
      "4200it [3:59:21,  3.12s/it]"
     ]
    },
    {
     "name": "stdout",
     "output_type": "stream",
     "text": [
      "Saved at: Data/example-code/supervised-textbook/questions/q4100-4200.npy\n"
     ]
    },
    {
     "name": "stderr",
     "output_type": "stream",
     "text": [
      "4300it [4:04:32,  3.12s/it]"
     ]
    },
    {
     "name": "stdout",
     "output_type": "stream",
     "text": [
      "Saved at: Data/example-code/supervised-textbook/questions/q4200-4300.npy\n"
     ]
    },
    {
     "name": "stderr",
     "output_type": "stream",
     "text": [
      "4400it [4:09:54,  3.00s/it]"
     ]
    },
    {
     "name": "stdout",
     "output_type": "stream",
     "text": [
      "Saved at: Data/example-code/supervised-textbook/questions/q4300-4400.npy\n"
     ]
    },
    {
     "name": "stderr",
     "output_type": "stream",
     "text": [
      "4500it [4:15:05,  4.10s/it]"
     ]
    },
    {
     "name": "stdout",
     "output_type": "stream",
     "text": [
      "Saved at: Data/example-code/supervised-textbook/questions/q4400-4500.npy\n"
     ]
    },
    {
     "name": "stderr",
     "output_type": "stream",
     "text": [
      "4600it [4:20:35,  3.01s/it]"
     ]
    },
    {
     "name": "stdout",
     "output_type": "stream",
     "text": [
      "Saved at: Data/example-code/supervised-textbook/questions/q4500-4600.npy\n"
     ]
    },
    {
     "name": "stderr",
     "output_type": "stream",
     "text": [
      "4700it [4:26:00,  3.05s/it]"
     ]
    },
    {
     "name": "stdout",
     "output_type": "stream",
     "text": [
      "Saved at: Data/example-code/supervised-textbook/questions/q4600-4700.npy\n"
     ]
    },
    {
     "name": "stderr",
     "output_type": "stream",
     "text": [
      "4800it [4:31:02,  3.16s/it]"
     ]
    },
    {
     "name": "stdout",
     "output_type": "stream",
     "text": [
      "Saved at: Data/example-code/supervised-textbook/questions/q4700-4800.npy\n"
     ]
    },
    {
     "name": "stderr",
     "output_type": "stream",
     "text": [
      "4900it [4:36:40,  3.26s/it]"
     ]
    },
    {
     "name": "stdout",
     "output_type": "stream",
     "text": [
      "Saved at: Data/example-code/supervised-textbook/questions/q4800-4900.npy\n"
     ]
    },
    {
     "name": "stderr",
     "output_type": "stream",
     "text": [
      "5000it [4:41:51,  3.62s/it]"
     ]
    },
    {
     "name": "stdout",
     "output_type": "stream",
     "text": [
      "Saved at: Data/example-code/supervised-textbook/questions/q4900-5000.npy\n"
     ]
    },
    {
     "name": "stderr",
     "output_type": "stream",
     "text": [
      "5100it [4:44:25,  1.52it/s]"
     ]
    },
    {
     "name": "stdout",
     "output_type": "stream",
     "text": [
      "Saved at: Data/example-code/supervised-textbook/questions/q5000-5100.npy\n"
     ]
    },
    {
     "name": "stderr",
     "output_type": "stream",
     "text": [
      "5200it [4:45:34,  1.48it/s]"
     ]
    },
    {
     "name": "stdout",
     "output_type": "stream",
     "text": [
      "Saved at: Data/example-code/supervised-textbook/questions/q5100-5200.npy\n"
     ]
    },
    {
     "name": "stderr",
     "output_type": "stream",
     "text": [
      "5300it [4:46:45,  1.48it/s]"
     ]
    },
    {
     "name": "stdout",
     "output_type": "stream",
     "text": [
      "Saved at: Data/example-code/supervised-textbook/questions/q5200-5300.npy\n"
     ]
    },
    {
     "name": "stderr",
     "output_type": "stream",
     "text": [
      "5400it [4:47:50,  1.72it/s]"
     ]
    },
    {
     "name": "stdout",
     "output_type": "stream",
     "text": [
      "Saved at: Data/example-code/supervised-textbook/questions/q5300-5400.npy\n"
     ]
    },
    {
     "name": "stderr",
     "output_type": "stream",
     "text": [
      "5500it [4:48:56,  1.30it/s]"
     ]
    },
    {
     "name": "stdout",
     "output_type": "stream",
     "text": [
      "Saved at: Data/example-code/supervised-textbook/questions/q5400-5500.npy\n"
     ]
    },
    {
     "name": "stderr",
     "output_type": "stream",
     "text": [
      "5600it [4:50:02,  1.42it/s]"
     ]
    },
    {
     "name": "stdout",
     "output_type": "stream",
     "text": [
      "Saved at: Data/example-code/supervised-textbook/questions/q5500-5600.npy\n"
     ]
    },
    {
     "name": "stderr",
     "output_type": "stream",
     "text": [
      "5700it [4:51:07,  1.46it/s]"
     ]
    },
    {
     "name": "stdout",
     "output_type": "stream",
     "text": [
      "Saved at: Data/example-code/supervised-textbook/questions/q5600-5700.npy\n"
     ]
    },
    {
     "name": "stderr",
     "output_type": "stream",
     "text": [
      "5800it [4:55:48,  3.24s/it]"
     ]
    },
    {
     "name": "stdout",
     "output_type": "stream",
     "text": [
      "Saved at: Data/example-code/supervised-textbook/questions/q5700-5800.npy\n"
     ]
    },
    {
     "name": "stderr",
     "output_type": "stream",
     "text": [
      "5900it [5:01:16,  3.03s/it]"
     ]
    },
    {
     "name": "stdout",
     "output_type": "stream",
     "text": [
      "Saved at: Data/example-code/supervised-textbook/questions/q5800-5900.npy\n"
     ]
    },
    {
     "name": "stderr",
     "output_type": "stream",
     "text": [
      "6000it [5:06:23,  2.91s/it]"
     ]
    },
    {
     "name": "stdout",
     "output_type": "stream",
     "text": [
      "Saved at: Data/example-code/supervised-textbook/questions/q5900-6000.npy\n"
     ]
    },
    {
     "name": "stderr",
     "output_type": "stream",
     "text": [
      "6100it [5:11:58,  3.82s/it]"
     ]
    },
    {
     "name": "stdout",
     "output_type": "stream",
     "text": [
      "Saved at: Data/example-code/supervised-textbook/questions/q6000-6100.npy\n"
     ]
    },
    {
     "name": "stderr",
     "output_type": "stream",
     "text": [
      "6200it [5:17:13,  3.22s/it]"
     ]
    },
    {
     "name": "stdout",
     "output_type": "stream",
     "text": [
      "Saved at: Data/example-code/supervised-textbook/questions/q6100-6200.npy\n"
     ]
    },
    {
     "name": "stderr",
     "output_type": "stream",
     "text": [
      "6300it [5:22:23,  3.07s/it]"
     ]
    },
    {
     "name": "stdout",
     "output_type": "stream",
     "text": [
      "Saved at: Data/example-code/supervised-textbook/questions/q6200-6300.npy\n"
     ]
    },
    {
     "name": "stderr",
     "output_type": "stream",
     "text": [
      "6400it [5:27:56,  3.33s/it]"
     ]
    },
    {
     "name": "stdout",
     "output_type": "stream",
     "text": [
      "Saved at: Data/example-code/supervised-textbook/questions/q6300-6400.npy\n"
     ]
    },
    {
     "name": "stderr",
     "output_type": "stream",
     "text": [
      "6500it [5:33:11,  2.94s/it]"
     ]
    },
    {
     "name": "stdout",
     "output_type": "stream",
     "text": [
      "Saved at: Data/example-code/supervised-textbook/questions/q6400-6500.npy\n"
     ]
    },
    {
     "name": "stderr",
     "output_type": "stream",
     "text": [
      "6600it [5:38:48,  3.11s/it]"
     ]
    },
    {
     "name": "stdout",
     "output_type": "stream",
     "text": [
      "Saved at: Data/example-code/supervised-textbook/questions/q6500-6600.npy\n"
     ]
    },
    {
     "name": "stderr",
     "output_type": "stream",
     "text": [
      "6700it [5:44:21,  4.05s/it]"
     ]
    },
    {
     "name": "stdout",
     "output_type": "stream",
     "text": [
      "Saved at: Data/example-code/supervised-textbook/questions/q6600-6700.npy\n"
     ]
    },
    {
     "name": "stderr",
     "output_type": "stream",
     "text": [
      "6800it [5:50:03,  3.23s/it]"
     ]
    },
    {
     "name": "stdout",
     "output_type": "stream",
     "text": [
      "Saved at: Data/example-code/supervised-textbook/questions/q6700-6800.npy\n"
     ]
    },
    {
     "name": "stderr",
     "output_type": "stream",
     "text": [
      "6900it [5:55:52,  3.97s/it]"
     ]
    },
    {
     "name": "stdout",
     "output_type": "stream",
     "text": [
      "Saved at: Data/example-code/supervised-textbook/questions/q6800-6900.npy\n"
     ]
    },
    {
     "name": "stderr",
     "output_type": "stream",
     "text": [
      "7000it [6:01:25,  3.24s/it]"
     ]
    },
    {
     "name": "stdout",
     "output_type": "stream",
     "text": [
      "Saved at: Data/example-code/supervised-textbook/questions/q6900-7000.npy\n"
     ]
    },
    {
     "name": "stderr",
     "output_type": "stream",
     "text": [
      "7100it [6:06:54,  2.96s/it]"
     ]
    },
    {
     "name": "stdout",
     "output_type": "stream",
     "text": [
      "Saved at: Data/example-code/supervised-textbook/questions/q7000-7100.npy\n"
     ]
    },
    {
     "name": "stderr",
     "output_type": "stream",
     "text": [
      "7200it [6:12:16,  3.11s/it]"
     ]
    },
    {
     "name": "stdout",
     "output_type": "stream",
     "text": [
      "Saved at: Data/example-code/supervised-textbook/questions/q7100-7200.npy\n"
     ]
    },
    {
     "name": "stderr",
     "output_type": "stream",
     "text": [
      "7300it [6:17:41,  3.02s/it]"
     ]
    },
    {
     "name": "stdout",
     "output_type": "stream",
     "text": [
      "Saved at: Data/example-code/supervised-textbook/questions/q7200-7300.npy\n"
     ]
    },
    {
     "name": "stderr",
     "output_type": "stream",
     "text": [
      "7400it [6:22:53,  3.00s/it]"
     ]
    },
    {
     "name": "stdout",
     "output_type": "stream",
     "text": [
      "Saved at: Data/example-code/supervised-textbook/questions/q7300-7400.npy\n"
     ]
    },
    {
     "name": "stderr",
     "output_type": "stream",
     "text": [
      "7500it [6:28:07,  2.96s/it]"
     ]
    },
    {
     "name": "stdout",
     "output_type": "stream",
     "text": [
      "Saved at: Data/example-code/supervised-textbook/questions/q7400-7500.npy\n"
     ]
    },
    {
     "name": "stderr",
     "output_type": "stream",
     "text": [
      "7600it [6:33:16,  2.89s/it]"
     ]
    },
    {
     "name": "stdout",
     "output_type": "stream",
     "text": [
      "Saved at: Data/example-code/supervised-textbook/questions/q7500-7600.npy\n"
     ]
    },
    {
     "name": "stderr",
     "output_type": "stream",
     "text": [
      "7700it [6:38:32,  3.00s/it]"
     ]
    },
    {
     "name": "stdout",
     "output_type": "stream",
     "text": [
      "Saved at: Data/example-code/supervised-textbook/questions/q7600-7700.npy\n"
     ]
    },
    {
     "name": "stderr",
     "output_type": "stream",
     "text": [
      "7800it [6:43:59,  3.05s/it]"
     ]
    },
    {
     "name": "stdout",
     "output_type": "stream",
     "text": [
      "Saved at: Data/example-code/supervised-textbook/questions/q7700-7800.npy\n"
     ]
    },
    {
     "name": "stderr",
     "output_type": "stream",
     "text": [
      "7900it [6:48:53,  3.02s/it]"
     ]
    },
    {
     "name": "stdout",
     "output_type": "stream",
     "text": [
      "Saved at: Data/example-code/supervised-textbook/questions/q7800-7900.npy\n"
     ]
    },
    {
     "name": "stderr",
     "output_type": "stream",
     "text": [
      "8000it [6:54:15,  3.15s/it]"
     ]
    },
    {
     "name": "stdout",
     "output_type": "stream",
     "text": [
      "Saved at: Data/example-code/supervised-textbook/questions/q7900-8000.npy\n"
     ]
    },
    {
     "name": "stderr",
     "output_type": "stream",
     "text": [
      "8087it [6:59:10,  3.11s/it]\n"
     ]
    }
   ],
   "source": [
    "df = pd.read_csv(\"Data/example-code/supervised-textbook/textbook-analysis.csv\")\n",
    "df = df[df[\"isComplete\"]==True]\n",
    "df = df[~df[\"image_directory\"].str.contains(\"content/drive\")]\n",
    "print(\"Found\", len(df.index), \"items\")\n",
    "\n",
    "results = {}\n",
    "counter = 0\n",
    "delim = 100\n",
    "for i, row in tqdm(df.iterrows()):\n",
    "    counter += 1\n",
    "    if counter > -1:  # placeholder for \n",
    "        try:\n",
    "            ret = fixup(row[\"image_directory\"])  # get question\n",
    "            results[row[\"image_directory\"]] = ret  # add to dict\n",
    "            if counter%delim == 0:  # save\n",
    "                to_save = f\"Data/example-code/supervised-textbook/questions/q{counter-delim}-{counter}.npy\"\n",
    "                np.save(to_save, results)\n",
    "                print(\"Saved at:\", to_save)\n",
    "                results = {}\n",
    "        except Exception as e:\n",
    "            print(e)\n",
    "            print()"
   ]
  },
  {
   "cell_type": "code",
   "execution_count": 208,
   "id": "cc2848df",
   "metadata": {},
   "outputs": [
    {
     "name": "stdout",
     "output_type": "stream",
     "text": [
      "Found 23 worth of question results\n",
      "Found 14 worth of cloud question results\n",
      "For a total of 37 questions\n",
      "loaded into all_questions\n"
     ]
    }
   ],
   "source": [
    "q_dir = \"Data/example-code/supervised-textbook/questions/\"\n",
    "my_questions = [q_dir+file for file in os.listdir(q_dir) if \".npy\" in file]\n",
    "print(\"Found\", len(my_questions), \"worth of question results\")\n",
    "q_dir2 = \"Data/example-code/supervised-textbook/gcolab-questions/\"\n",
    "colab_questions = [q_dir2+file for file in os.listdir(q_dir2) if \".npy\" in file]\n",
    "print(\"Found\", len(colab_questions), \"worth of cloud question results\")\n",
    "questions_dir = my_questions + colab_questions\n",
    "print(\"For a total of\", len(questions_dir), \"questions\")\n",
    "\n",
    "all_questions = {}\n",
    "qs = [np.load(file, allow_pickle=True).item() for file in questions_dir]\n",
    "for q_dict in qs:\n",
    "    all_questions.update(q_dict)\n",
    "print(\"loaded into all_questions\")"
   ]
  },
  {
   "cell_type": "code",
   "execution_count": 209,
   "id": "421731cf",
   "metadata": {},
   "outputs": [
    {
     "data": {
      "text/html": [
       "<div>\n",
       "<style scoped>\n",
       "    .dataframe tbody tr th:only-of-type {\n",
       "        vertical-align: middle;\n",
       "    }\n",
       "\n",
       "    .dataframe tbody tr th {\n",
       "        vertical-align: top;\n",
       "    }\n",
       "\n",
       "    .dataframe thead th {\n",
       "        text-align: right;\n",
       "    }\n",
       "</style>\n",
       "<table border=\"1\" class=\"dataframe\">\n",
       "  <thead>\n",
       "    <tr style=\"text-align: right;\">\n",
       "      <th></th>\n",
       "      <th>image_directory</th>\n",
       "      <th>isComplete</th>\n",
       "      <th>raw_code</th>\n",
       "      <th>code</th>\n",
       "      <th>caption</th>\n",
       "      <th>question</th>\n",
       "    </tr>\n",
       "  </thead>\n",
       "  <tbody>\n",
       "    <tr>\n",
       "      <th>0</th>\n",
       "      <td>Data/example-code/supervised-textbook/paginate...</td>\n",
       "      <td>False</td>\n",
       "      <td>NO CODE</td>\n",
       "      <td>NaN</td>\n",
       "      <td>NaN</td>\n",
       "      <td>NaN</td>\n",
       "    </tr>\n",
       "    <tr>\n",
       "      <th>1</th>\n",
       "      <td>Data/example-code/supervised-textbook/paginate...</td>\n",
       "      <td>False</td>\n",
       "      <td>NO CODE</td>\n",
       "      <td>NaN</td>\n",
       "      <td>NaN</td>\n",
       "      <td>NaN</td>\n",
       "    </tr>\n",
       "    <tr>\n",
       "      <th>2</th>\n",
       "      <td>Data/example-code/supervised-textbook/paginate...</td>\n",
       "      <td>True</td>\n",
       "      <td>The image contains text describing functions r...</td>\n",
       "      <td>f_putp(n, value)\\nvoid tf_iputp(n, value, tfin...</td>\n",
       "      <td>Caption: \"The image shows a page from 'The Ver...</td>\n",
       "      <td>What are some of the Verilog PLI (Programming ...</td>\n",
       "    </tr>\n",
       "    <tr>\n",
       "      <th>3</th>\n",
       "      <td>Data/example-code/supervised-textbook/paginate...</td>\n",
       "      <td>True</td>\n",
       "      <td>The image contains Verilog code as part of an ...</td>\n",
       "      <td>\\nmodule event_monitor (ck, reset_n, test);\\n ...</td>\n",
       "      <td>The image shows a snippet of a textbook or doc...</td>\n",
       "      <td>What is an example of Verilog code for an even...</td>\n",
       "    </tr>\n",
       "    <tr>\n",
       "      <th>4</th>\n",
       "      <td>Data/example-code/supervised-textbook/paginate...</td>\n",
       "      <td>True</td>\n",
       "      <td>The image contains structures defined in Veril...</td>\n",
       "      <td>ef struct t_vpi_value {\\n    int format; /* vp...</td>\n",
       "      <td>Caption: \"Excerpt from The Verilog PLI Handboo...</td>\n",
       "      <td>What are the examples of C data structure defi...</td>\n",
       "    </tr>\n",
       "    <tr>\n",
       "      <th>...</th>\n",
       "      <td>...</td>\n",
       "      <td>...</td>\n",
       "      <td>...</td>\n",
       "      <td>...</td>\n",
       "      <td>...</td>\n",
       "      <td>...</td>\n",
       "    </tr>\n",
       "    <tr>\n",
       "      <th>26547</th>\n",
       "      <td>/content/drive/MyDrive/gpt_pipeline/pages/Hamb...</td>\n",
       "      <td>True</td>\n",
       "      <td>The image contains an example of Verilog code....</td>\n",
       "      <td>\\nENTITY orgate IS\\nPORT(\\n  PB1, PB2 : IN  ST...</td>\n",
       "      <td>VHDL entity declaration code and documentation...</td>\n",
       "      <td>NaN</td>\n",
       "    </tr>\n",
       "    <tr>\n",
       "      <th>26548</th>\n",
       "      <td>/content/drive/MyDrive/gpt_pipeline/pages/Hamb...</td>\n",
       "      <td>True</td>\n",
       "      <td>The image contains some Verilog code. Here is ...</td>\n",
       "      <td>\\nLIBRARY IEEE;\\nUSE IEEE.STD_LOGIC_1164.all;\\...</td>\n",
       "      <td>Verilog code snippet for an OR-gate model with...</td>\n",
       "      <td>NaN</td>\n",
       "    </tr>\n",
       "    <tr>\n",
       "      <th>26549</th>\n",
       "      <td>/content/drive/MyDrive/gpt_pipeline/pages/Hamb...</td>\n",
       "      <td>True</td>\n",
       "      <td>There is a line of code in the VHDL language i...</td>\n",
       "      <td>NOT ( NOT PB1 OR NOT PB2 );\\n</td>\n",
       "      <td>This image shows a page from a tutorial provid...</td>\n",
       "      <td>NaN</td>\n",
       "    </tr>\n",
       "    <tr>\n",
       "      <th>26550</th>\n",
       "      <td>/content/drive/MyDrive/gpt_pipeline/pages/Hamb...</td>\n",
       "      <td>True</td>\n",
       "      <td>The image contains a small snippet of Verilog ...</td>\n",
       "      <td>+ C;\\n</td>\n",
       "      <td>The image shows a screenshot of an error messa...</td>\n",
       "      <td>NaN</td>\n",
       "    </tr>\n",
       "    <tr>\n",
       "      <th>26551</th>\n",
       "      <td>/content/drive/MyDrive/gpt_pipeline/pages/Hamb...</td>\n",
       "      <td>True</td>\n",
       "      <td>The image contains a snippet of Verilog code. ...</td>\n",
       "      <td>\\nmodule orgate( PB1, PB2, LED );\\n\\n    input...</td>\n",
       "      <td>The image shows a tutorial page describing ste...</td>\n",
       "      <td>NaN</td>\n",
       "    </tr>\n",
       "  </tbody>\n",
       "</table>\n",
       "<p>26552 rows × 6 columns</p>\n",
       "</div>"
      ],
      "text/plain": [
       "                                         image_directory  isComplete  \\\n",
       "0      Data/example-code/supervised-textbook/paginate...       False   \n",
       "1      Data/example-code/supervised-textbook/paginate...       False   \n",
       "2      Data/example-code/supervised-textbook/paginate...        True   \n",
       "3      Data/example-code/supervised-textbook/paginate...        True   \n",
       "4      Data/example-code/supervised-textbook/paginate...        True   \n",
       "...                                                  ...         ...   \n",
       "26547  /content/drive/MyDrive/gpt_pipeline/pages/Hamb...        True   \n",
       "26548  /content/drive/MyDrive/gpt_pipeline/pages/Hamb...        True   \n",
       "26549  /content/drive/MyDrive/gpt_pipeline/pages/Hamb...        True   \n",
       "26550  /content/drive/MyDrive/gpt_pipeline/pages/Hamb...        True   \n",
       "26551  /content/drive/MyDrive/gpt_pipeline/pages/Hamb...        True   \n",
       "\n",
       "                                                raw_code  \\\n",
       "0                                                NO CODE   \n",
       "1                                                NO CODE   \n",
       "2      The image contains text describing functions r...   \n",
       "3      The image contains Verilog code as part of an ...   \n",
       "4      The image contains structures defined in Veril...   \n",
       "...                                                  ...   \n",
       "26547  The image contains an example of Verilog code....   \n",
       "26548  The image contains some Verilog code. Here is ...   \n",
       "26549  There is a line of code in the VHDL language i...   \n",
       "26550  The image contains a small snippet of Verilog ...   \n",
       "26551  The image contains a snippet of Verilog code. ...   \n",
       "\n",
       "                                                    code  \\\n",
       "0                                                    NaN   \n",
       "1                                                    NaN   \n",
       "2      f_putp(n, value)\\nvoid tf_iputp(n, value, tfin...   \n",
       "3      \\nmodule event_monitor (ck, reset_n, test);\\n ...   \n",
       "4      ef struct t_vpi_value {\\n    int format; /* vp...   \n",
       "...                                                  ...   \n",
       "26547  \\nENTITY orgate IS\\nPORT(\\n  PB1, PB2 : IN  ST...   \n",
       "26548  \\nLIBRARY IEEE;\\nUSE IEEE.STD_LOGIC_1164.all;\\...   \n",
       "26549                      NOT ( NOT PB1 OR NOT PB2 );\\n   \n",
       "26550                                             + C;\\n   \n",
       "26551  \\nmodule orgate( PB1, PB2, LED );\\n\\n    input...   \n",
       "\n",
       "                                                 caption  \\\n",
       "0                                                    NaN   \n",
       "1                                                    NaN   \n",
       "2      Caption: \"The image shows a page from 'The Ver...   \n",
       "3      The image shows a snippet of a textbook or doc...   \n",
       "4      Caption: \"Excerpt from The Verilog PLI Handboo...   \n",
       "...                                                  ...   \n",
       "26547  VHDL entity declaration code and documentation...   \n",
       "26548  Verilog code snippet for an OR-gate model with...   \n",
       "26549  This image shows a page from a tutorial provid...   \n",
       "26550  The image shows a screenshot of an error messa...   \n",
       "26551  The image shows a tutorial page describing ste...   \n",
       "\n",
       "                                                question  \n",
       "0                                                    NaN  \n",
       "1                                                    NaN  \n",
       "2      What are some of the Verilog PLI (Programming ...  \n",
       "3      What is an example of Verilog code for an even...  \n",
       "4      What are the examples of C data structure defi...  \n",
       "...                                                  ...  \n",
       "26547                                                NaN  \n",
       "26548                                                NaN  \n",
       "26549                                                NaN  \n",
       "26550                                                NaN  \n",
       "26551                                                NaN  \n",
       "\n",
       "[26552 rows x 6 columns]"
      ]
     },
     "execution_count": 209,
     "metadata": {},
     "output_type": "execute_result"
    }
   ],
   "source": [
    "df = pd.read_csv(\"Data/example-code/supervised-textbook/textbook-analysis.csv\")\n",
    "df[\"question\"] = df[\"image_directory\"].apply(lambda x: all_questions.get(x, np.nan))\n",
    "df"
   ]
  },
  {
   "cell_type": "code",
   "execution_count": 210,
   "id": "79d4f6fa",
   "metadata": {},
   "outputs": [
    {
     "name": "stdout",
     "output_type": "stream",
     "text": [
      "SAVED TO Data/example-code/supervised-textbook/textbook-analysis-basic.csv\n"
     ]
    }
   ],
   "source": [
    "save_dir = \"Data/example-code/supervised-textbook/textbook-analysis.csv\"\n",
    "df.to_csv(save_dir, index=False)\n",
    "print(\"SAVED TO\", save_dir)"
   ]
  },
  {
   "cell_type": "markdown",
   "id": "84688f3a",
   "metadata": {},
   "source": [
    "### Observing Results "
   ]
  },
  {
   "cell_type": "code",
   "execution_count": 104,
   "id": "ce1efd8e",
   "metadata": {},
   "outputs": [
    {
     "data": {
      "text/html": [
       "<div>\n",
       "<style scoped>\n",
       "    .dataframe tbody tr th:only-of-type {\n",
       "        vertical-align: middle;\n",
       "    }\n",
       "\n",
       "    .dataframe tbody tr th {\n",
       "        vertical-align: top;\n",
       "    }\n",
       "\n",
       "    .dataframe thead th {\n",
       "        text-align: right;\n",
       "    }\n",
       "</style>\n",
       "<table border=\"1\" class=\"dataframe\">\n",
       "  <thead>\n",
       "    <tr style=\"text-align: right;\">\n",
       "      <th></th>\n",
       "      <th>image_directory</th>\n",
       "      <th>isComplete</th>\n",
       "      <th>raw_code</th>\n",
       "      <th>code</th>\n",
       "      <th>caption</th>\n",
       "    </tr>\n",
       "  </thead>\n",
       "  <tbody>\n",
       "    <tr>\n",
       "      <th>0</th>\n",
       "      <td>Data/example-code/supervised-textbook/paginate...</td>\n",
       "      <td>False</td>\n",
       "      <td>NO CODE</td>\n",
       "      <td>NaN</td>\n",
       "      <td>NaN</td>\n",
       "    </tr>\n",
       "    <tr>\n",
       "      <th>1</th>\n",
       "      <td>Data/example-code/supervised-textbook/paginate...</td>\n",
       "      <td>False</td>\n",
       "      <td>NO CODE</td>\n",
       "      <td>NaN</td>\n",
       "      <td>NaN</td>\n",
       "    </tr>\n",
       "    <tr>\n",
       "      <th>2</th>\n",
       "      <td>Data/example-code/supervised-textbook/paginate...</td>\n",
       "      <td>True</td>\n",
       "      <td>The image contains text describing functions r...</td>\n",
       "      <td>f_putp(n, value)\\nvoid tf_iputp(n, value, tfin...</td>\n",
       "      <td>Caption: \"The image shows a page from 'The Ver...</td>\n",
       "    </tr>\n",
       "    <tr>\n",
       "      <th>3</th>\n",
       "      <td>Data/example-code/supervised-textbook/paginate...</td>\n",
       "      <td>True</td>\n",
       "      <td>The image contains Verilog code as part of an ...</td>\n",
       "      <td>\\nmodule event_monitor (ck, reset_n, test);\\n ...</td>\n",
       "      <td>The image shows a snippet of a textbook or doc...</td>\n",
       "    </tr>\n",
       "    <tr>\n",
       "      <th>4</th>\n",
       "      <td>Data/example-code/supervised-textbook/paginate...</td>\n",
       "      <td>True</td>\n",
       "      <td>The image contains structures defined in Veril...</td>\n",
       "      <td>ef struct t_vpi_value {\\n    int format; /* vp...</td>\n",
       "      <td>Caption: \"Excerpt from The Verilog PLI Handboo...</td>\n",
       "    </tr>\n",
       "    <tr>\n",
       "      <th>...</th>\n",
       "      <td>...</td>\n",
       "      <td>...</td>\n",
       "      <td>...</td>\n",
       "      <td>...</td>\n",
       "      <td>...</td>\n",
       "    </tr>\n",
       "    <tr>\n",
       "      <th>26547</th>\n",
       "      <td>/content/drive/MyDrive/gpt_pipeline/pages/Hamb...</td>\n",
       "      <td>True</td>\n",
       "      <td>The image contains an example of Verilog code....</td>\n",
       "      <td>\\nENTITY orgate IS\\nPORT(\\n  PB1, PB2 : IN  ST...</td>\n",
       "      <td>VHDL entity declaration code and documentation...</td>\n",
       "    </tr>\n",
       "    <tr>\n",
       "      <th>26548</th>\n",
       "      <td>/content/drive/MyDrive/gpt_pipeline/pages/Hamb...</td>\n",
       "      <td>True</td>\n",
       "      <td>The image contains some Verilog code. Here is ...</td>\n",
       "      <td>\\nLIBRARY IEEE;\\nUSE IEEE.STD_LOGIC_1164.all;\\...</td>\n",
       "      <td>Verilog code snippet for an OR-gate model with...</td>\n",
       "    </tr>\n",
       "    <tr>\n",
       "      <th>26549</th>\n",
       "      <td>/content/drive/MyDrive/gpt_pipeline/pages/Hamb...</td>\n",
       "      <td>True</td>\n",
       "      <td>There is a line of code in the VHDL language i...</td>\n",
       "      <td>NOT ( NOT PB1 OR NOT PB2 );\\n</td>\n",
       "      <td>This image shows a page from a tutorial provid...</td>\n",
       "    </tr>\n",
       "    <tr>\n",
       "      <th>26550</th>\n",
       "      <td>/content/drive/MyDrive/gpt_pipeline/pages/Hamb...</td>\n",
       "      <td>True</td>\n",
       "      <td>The image contains a small snippet of Verilog ...</td>\n",
       "      <td>+ C;\\n</td>\n",
       "      <td>The image shows a screenshot of an error messa...</td>\n",
       "    </tr>\n",
       "    <tr>\n",
       "      <th>26551</th>\n",
       "      <td>/content/drive/MyDrive/gpt_pipeline/pages/Hamb...</td>\n",
       "      <td>True</td>\n",
       "      <td>The image contains a snippet of Verilog code. ...</td>\n",
       "      <td>\\nmodule orgate( PB1, PB2, LED );\\n\\n    input...</td>\n",
       "      <td>The image shows a tutorial page describing ste...</td>\n",
       "    </tr>\n",
       "  </tbody>\n",
       "</table>\n",
       "<p>26552 rows × 5 columns</p>\n",
       "</div>"
      ],
      "text/plain": [
       "                                         image_directory  isComplete  \\\n",
       "0      Data/example-code/supervised-textbook/paginate...       False   \n",
       "1      Data/example-code/supervised-textbook/paginate...       False   \n",
       "2      Data/example-code/supervised-textbook/paginate...        True   \n",
       "3      Data/example-code/supervised-textbook/paginate...        True   \n",
       "4      Data/example-code/supervised-textbook/paginate...        True   \n",
       "...                                                  ...         ...   \n",
       "26547  /content/drive/MyDrive/gpt_pipeline/pages/Hamb...        True   \n",
       "26548  /content/drive/MyDrive/gpt_pipeline/pages/Hamb...        True   \n",
       "26549  /content/drive/MyDrive/gpt_pipeline/pages/Hamb...        True   \n",
       "26550  /content/drive/MyDrive/gpt_pipeline/pages/Hamb...        True   \n",
       "26551  /content/drive/MyDrive/gpt_pipeline/pages/Hamb...        True   \n",
       "\n",
       "                                                raw_code  \\\n",
       "0                                                NO CODE   \n",
       "1                                                NO CODE   \n",
       "2      The image contains text describing functions r...   \n",
       "3      The image contains Verilog code as part of an ...   \n",
       "4      The image contains structures defined in Veril...   \n",
       "...                                                  ...   \n",
       "26547  The image contains an example of Verilog code....   \n",
       "26548  The image contains some Verilog code. Here is ...   \n",
       "26549  There is a line of code in the VHDL language i...   \n",
       "26550  The image contains a small snippet of Verilog ...   \n",
       "26551  The image contains a snippet of Verilog code. ...   \n",
       "\n",
       "                                                    code  \\\n",
       "0                                                    NaN   \n",
       "1                                                    NaN   \n",
       "2      f_putp(n, value)\\nvoid tf_iputp(n, value, tfin...   \n",
       "3      \\nmodule event_monitor (ck, reset_n, test);\\n ...   \n",
       "4      ef struct t_vpi_value {\\n    int format; /* vp...   \n",
       "...                                                  ...   \n",
       "26547  \\nENTITY orgate IS\\nPORT(\\n  PB1, PB2 : IN  ST...   \n",
       "26548  \\nLIBRARY IEEE;\\nUSE IEEE.STD_LOGIC_1164.all;\\...   \n",
       "26549                      NOT ( NOT PB1 OR NOT PB2 );\\n   \n",
       "26550                                             + C;\\n   \n",
       "26551  \\nmodule orgate( PB1, PB2, LED );\\n\\n    input...   \n",
       "\n",
       "                                                 caption  \n",
       "0                                                    NaN  \n",
       "1                                                    NaN  \n",
       "2      Caption: \"The image shows a page from 'The Ver...  \n",
       "3      The image shows a snippet of a textbook or doc...  \n",
       "4      Caption: \"Excerpt from The Verilog PLI Handboo...  \n",
       "...                                                  ...  \n",
       "26547  VHDL entity declaration code and documentation...  \n",
       "26548  Verilog code snippet for an OR-gate model with...  \n",
       "26549  This image shows a page from a tutorial provid...  \n",
       "26550  The image shows a screenshot of an error messa...  \n",
       "26551  The image shows a tutorial page describing ste...  \n",
       "\n",
       "[26552 rows x 5 columns]"
      ]
     },
     "execution_count": 104,
     "metadata": {},
     "output_type": "execute_result"
    }
   ],
   "source": [
    "df = pd.read_csv(\"Data/example-code/supervised-textbook/textbook-analysis.csv\")\n",
    "df"
   ]
  },
  {
   "cell_type": "code",
   "execution_count": 207,
   "id": "13c49386",
   "metadata": {},
   "outputs": [],
   "source": [
    "df.to_json(\"Data/example-code/supervised-textbook/textbook-verilog.json\", orient='records', lines=True)"
   ]
  },
  {
   "cell_type": "code",
   "execution_count": 120,
   "id": "9ccbabb5",
   "metadata": {},
   "outputs": [
    {
     "name": "stdout",
     "output_type": "stream",
     "text": [
      "Index(['image_directory', 'isComplete', 'raw_code', 'code', 'caption',\n",
      "       'hasAssert'],\n",
      "      dtype='object')\n"
     ]
    }
   ],
   "source": [
    "df = pd.read_csv(\"Data/example-code/verilog examples/fulltextbook-gptresponse.csv\")\n",
    "df = df[df[\"isComplete\"]==True]\n",
    "print(df.columns)"
   ]
  },
  {
   "cell_type": "code",
   "execution_count": 164,
   "id": "eb45f4e1",
   "metadata": {},
   "outputs": [
    {
     "data": {
      "text/html": [
       "<div>\n",
       "<style scoped>\n",
       "    .dataframe tbody tr th:only-of-type {\n",
       "        vertical-align: middle;\n",
       "    }\n",
       "\n",
       "    .dataframe tbody tr th {\n",
       "        vertical-align: top;\n",
       "    }\n",
       "\n",
       "    .dataframe thead th {\n",
       "        text-align: right;\n",
       "    }\n",
       "</style>\n",
       "<table border=\"1\" class=\"dataframe\">\n",
       "  <thead>\n",
       "    <tr style=\"text-align: right;\">\n",
       "      <th></th>\n",
       "      <th>image_directory</th>\n",
       "      <th>isComplete</th>\n",
       "      <th>raw_code</th>\n",
       "      <th>code</th>\n",
       "      <th>caption</th>\n",
       "      <th>hasAssert</th>\n",
       "    </tr>\n",
       "  </thead>\n",
       "  <tbody>\n",
       "    <tr>\n",
       "      <th>0</th>\n",
       "      <td>Data/example-code/verilog examples/Textbook SV...</td>\n",
       "      <td>True</td>\n",
       "      <td>The image contains Verilog code, which I'll wr...</td>\n",
       "      <td>\\nimport \"DPI-C\" function chandle counter7_new...</td>\n",
       "      <td>Verilog code example for testing a 7-bit count...</td>\n",
       "      <td>False</td>\n",
       "    </tr>\n",
       "    <tr>\n",
       "      <th>1</th>\n",
       "      <td>Data/example-code/verilog examples/Textbook SV...</td>\n",
       "      <td>True</td>\n",
       "      <td>The image contains a snippet of Verilog code, ...</td>\n",
       "      <td>\\nproperty abc;\\n  @(posedge clk) a |=&gt; b[=2:5...</td>\n",
       "      <td>\"Explaining Verilog Non-consecutive Repetition...</td>\n",
       "      <td>False</td>\n",
       "    </tr>\n",
       "    <tr>\n",
       "      <th>2</th>\n",
       "      <td>Data/example-code/verilog examples/Textbook SV...</td>\n",
       "      <td>True</td>\n",
       "      <td>The image contains code written in the Verilog...</td>\n",
       "      <td>\\nfunction void Environment::build();\\n    // ...</td>\n",
       "      <td>Caption: \"Example of Verilog code for building...</td>\n",
       "      <td>False</td>\n",
       "    </tr>\n",
       "    <tr>\n",
       "      <th>5</th>\n",
       "      <td>Data/example-code/verilog examples/Textbook SV...</td>\n",
       "      <td>True</td>\n",
       "      <td>There are snippets of code in the image. Here ...</td>\n",
       "      <td>\\nm1: assume property (@(global_clock) i != $f...</td>\n",
       "      <td>\"Exploring the use of future and past value fu...</td>\n",
       "      <td>False</td>\n",
       "    </tr>\n",
       "    <tr>\n",
       "      <th>6</th>\n",
       "      <td>Data/example-code/verilog examples/Textbook SV...</td>\n",
       "      <td>True</td>\n",
       "      <td>```verilog\\nimport \"DPI-C\" function void view_...</td>\n",
       "      <td>\\nimport \"DPI-C\" function void view_pack(input...</td>\n",
       "      <td>Sample code demonstrating the use of packed op...</td>\n",
       "      <td>False</td>\n",
       "    </tr>\n",
       "    <tr>\n",
       "      <th>...</th>\n",
       "      <td>...</td>\n",
       "      <td>...</td>\n",
       "      <td>...</td>\n",
       "      <td>...</td>\n",
       "      <td>...</td>\n",
       "      <td>...</td>\n",
       "    </tr>\n",
       "    <tr>\n",
       "      <th>4816</th>\n",
       "      <td>Data/example-code/verilog examples/Textbook SV...</td>\n",
       "      <td>True</td>\n",
       "      <td>```verilog\\nmodule decl_in_clocking_block (log...</td>\n",
       "      <td>\\nmodule decl_in_clocking_block (logic a, b, c...</td>\n",
       "      <td>\"Verilog Code Example and Exercises on Clockin...</td>\n",
       "      <td>True</td>\n",
       "    </tr>\n",
       "    <tr>\n",
       "      <th>4817</th>\n",
       "      <td>Data/example-code/verilog examples/Textbook SV...</td>\n",
       "      <td>True</td>\n",
       "      <td>There is a snippet of Verilog code in the imag...</td>\n",
       "      <td>\\nalways @(posedge clock)\\n    $read_test_vect...</td>\n",
       "      <td>Verilog PLI: Utilizing the `misctf` routine fo...</td>\n",
       "      <td>False</td>\n",
       "    </tr>\n",
       "    <tr>\n",
       "      <th>4818</th>\n",
       "      <td>Data/example-code/verilog examples/Textbook SV...</td>\n",
       "      <td>True</td>\n",
       "      <td>The image contains two sections of Verilog cod...</td>\n",
       "      <td>\\nmodule m_illegal_disable_nesting(logic reset...</td>\n",
       "      <td>\"Example of Verilog code demonstrating illegal...</td>\n",
       "      <td>True</td>\n",
       "    </tr>\n",
       "    <tr>\n",
       "      <th>4819</th>\n",
       "      <td>Data/example-code/verilog examples/Textbook SV...</td>\n",
       "      <td>True</td>\n",
       "      <td>```verilog\\nalways @(s1global_clock)\\n    o &lt;=...</td>\n",
       "      <td>\\nalways @(s1global_clock)\\n    o &lt;= a;\\nendmo...</td>\n",
       "      <td>Caption: \"Excerpt from a book discussing Veril...</td>\n",
       "      <td>False</td>\n",
       "    </tr>\n",
       "    <tr>\n",
       "      <th>4821</th>\n",
       "      <td>Data/example-code/verilog examples/Textbook SV...</td>\n",
       "      <td>True</td>\n",
       "      <td>The image contains both documentation text and...</td>\n",
       "      <td>\\nmodule block;\\n  import \"DPI-C\" context func...</td>\n",
       "      <td>Exporting a SystemVerilog function for interfa...</td>\n",
       "      <td>False</td>\n",
       "    </tr>\n",
       "  </tbody>\n",
       "</table>\n",
       "<p>2705 rows × 6 columns</p>\n",
       "</div>"
      ],
      "text/plain": [
       "                                        image_directory  isComplete  \\\n",
       "0     Data/example-code/verilog examples/Textbook SV...        True   \n",
       "1     Data/example-code/verilog examples/Textbook SV...        True   \n",
       "2     Data/example-code/verilog examples/Textbook SV...        True   \n",
       "5     Data/example-code/verilog examples/Textbook SV...        True   \n",
       "6     Data/example-code/verilog examples/Textbook SV...        True   \n",
       "...                                                 ...         ...   \n",
       "4816  Data/example-code/verilog examples/Textbook SV...        True   \n",
       "4817  Data/example-code/verilog examples/Textbook SV...        True   \n",
       "4818  Data/example-code/verilog examples/Textbook SV...        True   \n",
       "4819  Data/example-code/verilog examples/Textbook SV...        True   \n",
       "4821  Data/example-code/verilog examples/Textbook SV...        True   \n",
       "\n",
       "                                               raw_code  \\\n",
       "0     The image contains Verilog code, which I'll wr...   \n",
       "1     The image contains a snippet of Verilog code, ...   \n",
       "2     The image contains code written in the Verilog...   \n",
       "5     There are snippets of code in the image. Here ...   \n",
       "6     ```verilog\\nimport \"DPI-C\" function void view_...   \n",
       "...                                                 ...   \n",
       "4816  ```verilog\\nmodule decl_in_clocking_block (log...   \n",
       "4817  There is a snippet of Verilog code in the imag...   \n",
       "4818  The image contains two sections of Verilog cod...   \n",
       "4819  ```verilog\\nalways @(s1global_clock)\\n    o <=...   \n",
       "4821  The image contains both documentation text and...   \n",
       "\n",
       "                                                   code  \\\n",
       "0     \\nimport \"DPI-C\" function chandle counter7_new...   \n",
       "1     \\nproperty abc;\\n  @(posedge clk) a |=> b[=2:5...   \n",
       "2     \\nfunction void Environment::build();\\n    // ...   \n",
       "5     \\nm1: assume property (@(global_clock) i != $f...   \n",
       "6     \\nimport \"DPI-C\" function void view_pack(input...   \n",
       "...                                                 ...   \n",
       "4816  \\nmodule decl_in_clocking_block (logic a, b, c...   \n",
       "4817  \\nalways @(posedge clock)\\n    $read_test_vect...   \n",
       "4818  \\nmodule m_illegal_disable_nesting(logic reset...   \n",
       "4819  \\nalways @(s1global_clock)\\n    o <= a;\\nendmo...   \n",
       "4821  \\nmodule block;\\n  import \"DPI-C\" context func...   \n",
       "\n",
       "                                                caption  hasAssert  \n",
       "0     Verilog code example for testing a 7-bit count...      False  \n",
       "1     \"Explaining Verilog Non-consecutive Repetition...      False  \n",
       "2     Caption: \"Example of Verilog code for building...      False  \n",
       "5     \"Exploring the use of future and past value fu...      False  \n",
       "6     Sample code demonstrating the use of packed op...      False  \n",
       "...                                                 ...        ...  \n",
       "4816  \"Verilog Code Example and Exercises on Clockin...       True  \n",
       "4817  Verilog PLI: Utilizing the `misctf` routine fo...      False  \n",
       "4818  \"Example of Verilog code demonstrating illegal...       True  \n",
       "4819  Caption: \"Excerpt from a book discussing Veril...      False  \n",
       "4821  Exporting a SystemVerilog function for interfa...      False  \n",
       "\n",
       "[2705 rows x 6 columns]"
      ]
     },
     "execution_count": 164,
     "metadata": {},
     "output_type": "execute_result"
    }
   ],
   "source": [
    "df.to_csv(\"Data/example-code/verilog examples/fulltextbook-gptresponse-onlyTrue.csv\", index=False)\n",
    "df"
   ]
  },
  {
   "cell_type": "code",
   "execution_count": 172,
   "id": "88a163f4",
   "metadata": {},
   "outputs": [
    {
     "data": {
      "text/html": [
       "<div>\n",
       "<style scoped>\n",
       "    .dataframe tbody tr th:only-of-type {\n",
       "        vertical-align: middle;\n",
       "    }\n",
       "\n",
       "    .dataframe tbody tr th {\n",
       "        vertical-align: top;\n",
       "    }\n",
       "\n",
       "    .dataframe thead th {\n",
       "        text-align: right;\n",
       "    }\n",
       "</style>\n",
       "<table border=\"1\" class=\"dataframe\">\n",
       "  <thead>\n",
       "    <tr style=\"text-align: right;\">\n",
       "      <th></th>\n",
       "      <th>image_directory</th>\n",
       "      <th>isComplete</th>\n",
       "      <th>raw_code</th>\n",
       "      <th>code</th>\n",
       "      <th>caption</th>\n",
       "      <th>hasAssert</th>\n",
       "    </tr>\n",
       "  </thead>\n",
       "  <tbody>\n",
       "    <tr>\n",
       "      <th>7</th>\n",
       "      <td>Data/example-code/verilog examples/Textbook SV...</td>\n",
       "      <td>True</td>\n",
       "      <td>The image contains Verilog code related to a p...</td>\n",
       "      <td>\\nproperty checkConsecutive (clk,Sig,numClk);\\...</td>\n",
       "      <td>Caption: \"Example of a SystemVerilog assertion...</td>\n",
       "      <td>True</td>\n",
       "    </tr>\n",
       "    <tr>\n",
       "      <th>10</th>\n",
       "      <td>Data/example-code/verilog examples/Textbook SV...</td>\n",
       "      <td>True</td>\n",
       "      <td>The image contains two excerpts of Verilog cod...</td>\n",
       "      <td>\\nalways @(*) begin\\n    if (c1_long) begin\\n ...</td>\n",
       "      <td>Caption: \"Understanding the behavior of Verilo...</td>\n",
       "      <td>True</td>\n",
       "    </tr>\n",
       "    <tr>\n",
       "      <th>17</th>\n",
       "      <td>Data/example-code/verilog examples/Textbook SV...</td>\n",
       "      <td>True</td>\n",
       "      <td>The image contains Verilog code. Here is the c...</td>\n",
       "      <td>\\nproperty p;\\nlogic [3:0] tag;\\n@(posedge clk...</td>\n",
       "      <td>Caption: \"Debugging an Assertion in Verilog: T...</td>\n",
       "      <td>True</td>\n",
       "    </tr>\n",
       "    <tr>\n",
       "      <th>31</th>\n",
       "      <td>Data/example-code/verilog examples/Textbook SV...</td>\n",
       "      <td>True</td>\n",
       "      <td>The image contains a syntax example and a spec...</td>\n",
       "      <td>\\nsequence_declaration ::=\\nsequence sequence_...</td>\n",
       "      <td>\"Example of SystemVerilog sequence declaration...</td>\n",
       "      <td>True</td>\n",
       "    </tr>\n",
       "    <tr>\n",
       "      <th>34</th>\n",
       "      <td>Data/example-code/verilog examples/Textbook SV...</td>\n",
       "      <td>True</td>\n",
       "      <td>The image contains Verilog code, excerpts of w...</td>\n",
       "      <td>\\n// ...\\na1: assert property (p);\\n// ...\\n\\n...</td>\n",
       "      <td>Caption: \"Verilog code examples showing how to...</td>\n",
       "      <td>True</td>\n",
       "    </tr>\n",
       "    <tr>\n",
       "      <th>...</th>\n",
       "      <td>...</td>\n",
       "      <td>...</td>\n",
       "      <td>...</td>\n",
       "      <td>...</td>\n",
       "      <td>...</td>\n",
       "      <td>...</td>\n",
       "    </tr>\n",
       "    <tr>\n",
       "      <th>4784</th>\n",
       "      <td>Data/example-code/verilog examples/Textbook SV...</td>\n",
       "      <td>True</td>\n",
       "      <td>The image contains Verilog code within a text ...</td>\n",
       "      <td>\\n/*************************************\\n* ca...</td>\n",
       "      <td>Example of Verilog PLI callback setup for cloc...</td>\n",
       "      <td>True</td>\n",
       "    </tr>\n",
       "    <tr>\n",
       "      <th>4786</th>\n",
       "      <td>Data/example-code/verilog examples/Textbook SV...</td>\n",
       "      <td>True</td>\n",
       "      <td>The image contains text that describes legal a...</td>\n",
       "      <td>\\nnstate_e = LOAD;          // legal assignmen...</td>\n",
       "      <td>\"Understanding Verilog RTL Modeling Pitfalls: ...</td>\n",
       "      <td>True</td>\n",
       "    </tr>\n",
       "    <tr>\n",
       "      <th>4791</th>\n",
       "      <td>Data/example-code/verilog examples/Textbook SV...</td>\n",
       "      <td>True</td>\n",
       "      <td>Here is the Verilog code from the image:\\n\\n``...</td>\n",
       "      <td>\\nalways_comb begin\\n    if (sel)\\n        y =...</td>\n",
       "      <td>Caption: \"Comparing traditional Verilog error ...</td>\n",
       "      <td>True</td>\n",
       "    </tr>\n",
       "    <tr>\n",
       "      <th>4816</th>\n",
       "      <td>Data/example-code/verilog examples/Textbook SV...</td>\n",
       "      <td>True</td>\n",
       "      <td>```verilog\\nmodule decl_in_clocking_block (log...</td>\n",
       "      <td>\\nmodule decl_in_clocking_block (logic a, b, c...</td>\n",
       "      <td>\"Verilog Code Example and Exercises on Clockin...</td>\n",
       "      <td>True</td>\n",
       "    </tr>\n",
       "    <tr>\n",
       "      <th>4818</th>\n",
       "      <td>Data/example-code/verilog examples/Textbook SV...</td>\n",
       "      <td>True</td>\n",
       "      <td>The image contains two sections of Verilog cod...</td>\n",
       "      <td>\\nmodule m_illegal_disable_nesting(logic reset...</td>\n",
       "      <td>\"Example of Verilog code demonstrating illegal...</td>\n",
       "      <td>True</td>\n",
       "    </tr>\n",
       "  </tbody>\n",
       "</table>\n",
       "<p>765 rows × 6 columns</p>\n",
       "</div>"
      ],
      "text/plain": [
       "                                        image_directory  isComplete  \\\n",
       "7     Data/example-code/verilog examples/Textbook SV...        True   \n",
       "10    Data/example-code/verilog examples/Textbook SV...        True   \n",
       "17    Data/example-code/verilog examples/Textbook SV...        True   \n",
       "31    Data/example-code/verilog examples/Textbook SV...        True   \n",
       "34    Data/example-code/verilog examples/Textbook SV...        True   \n",
       "...                                                 ...         ...   \n",
       "4784  Data/example-code/verilog examples/Textbook SV...        True   \n",
       "4786  Data/example-code/verilog examples/Textbook SV...        True   \n",
       "4791  Data/example-code/verilog examples/Textbook SV...        True   \n",
       "4816  Data/example-code/verilog examples/Textbook SV...        True   \n",
       "4818  Data/example-code/verilog examples/Textbook SV...        True   \n",
       "\n",
       "                                               raw_code  \\\n",
       "7     The image contains Verilog code related to a p...   \n",
       "10    The image contains two excerpts of Verilog cod...   \n",
       "17    The image contains Verilog code. Here is the c...   \n",
       "31    The image contains a syntax example and a spec...   \n",
       "34    The image contains Verilog code, excerpts of w...   \n",
       "...                                                 ...   \n",
       "4784  The image contains Verilog code within a text ...   \n",
       "4786  The image contains text that describes legal a...   \n",
       "4791  Here is the Verilog code from the image:\\n\\n``...   \n",
       "4816  ```verilog\\nmodule decl_in_clocking_block (log...   \n",
       "4818  The image contains two sections of Verilog cod...   \n",
       "\n",
       "                                                   code  \\\n",
       "7     \\nproperty checkConsecutive (clk,Sig,numClk);\\...   \n",
       "10    \\nalways @(*) begin\\n    if (c1_long) begin\\n ...   \n",
       "17    \\nproperty p;\\nlogic [3:0] tag;\\n@(posedge clk...   \n",
       "31    \\nsequence_declaration ::=\\nsequence sequence_...   \n",
       "34    \\n// ...\\na1: assert property (p);\\n// ...\\n\\n...   \n",
       "...                                                 ...   \n",
       "4784  \\n/*************************************\\n* ca...   \n",
       "4786  \\nnstate_e = LOAD;          // legal assignmen...   \n",
       "4791  \\nalways_comb begin\\n    if (sel)\\n        y =...   \n",
       "4816  \\nmodule decl_in_clocking_block (logic a, b, c...   \n",
       "4818  \\nmodule m_illegal_disable_nesting(logic reset...   \n",
       "\n",
       "                                                caption  hasAssert  \n",
       "7     Caption: \"Example of a SystemVerilog assertion...       True  \n",
       "10    Caption: \"Understanding the behavior of Verilo...       True  \n",
       "17    Caption: \"Debugging an Assertion in Verilog: T...       True  \n",
       "31    \"Example of SystemVerilog sequence declaration...       True  \n",
       "34    Caption: \"Verilog code examples showing how to...       True  \n",
       "...                                                 ...        ...  \n",
       "4784  Example of Verilog PLI callback setup for cloc...       True  \n",
       "4786  \"Understanding Verilog RTL Modeling Pitfalls: ...       True  \n",
       "4791  Caption: \"Comparing traditional Verilog error ...       True  \n",
       "4816  \"Verilog Code Example and Exercises on Clockin...       True  \n",
       "4818  \"Example of Verilog code demonstrating illegal...       True  \n",
       "\n",
       "[765 rows x 6 columns]"
      ]
     },
     "execution_count": 172,
     "metadata": {},
     "output_type": "execute_result"
    }
   ],
   "source": [
    "test_df = df[df[\"code\"].apply(lambda x: 'assert' in str(x))]\n",
    "test_df"
   ]
  },
  {
   "cell_type": "code",
   "execution_count": 178,
   "id": "3516140f",
   "metadata": {},
   "outputs": [
    {
     "name": "stdout",
     "output_type": "stream",
     "text": [
      "Book:  JohnWilliams-Digital VLSI Design with Verilog_p127.jpg\n",
      "Caption:\n",
      " This image shows Verilog code for a Parallel-to-Serial converter module alongside instructions for modifying the code to include a parameter for setting the parallel bus width and updating the module's index variable to a register type with the correct width.\n",
      "\n",
      "Code:\n",
      " \n",
      "module ParToSerial (output SerOut, ServValidFlag\n",
      "                    , input SerClock, ParValid, input[31:0] BusIn);\n",
      "  integer ix;\n",
      "  reg SerValid, Done, SerBit;\n",
      "  assign #1 SerValidFlag = SerValid;\n",
      "  assign #2 SerOut        = SerBit;\n",
      "  always@(posedge SerClock)\n",
      "  begin // Reset everything unless ParValid:\n",
      "    if (ParValid=='b1)\n",
      "      if (SerValid=='b1)\n",
      "      begin\n",
      "        SerBit <= BusIn[ix]; // Current serial bit.\n",
      "        if (ix==0)\n",
      "        begin\n",
      "          SerValid <= 'b0;\n",
      "          Done     <= 'b1;\n",
      "        end\n",
      "        else ix <= ix - 1;\n",
      "      end // SerValid was asserted.\n",
      "      else begin // No start yet:\n",
      "        if (Done=='b0)\n",
      "        begin\n",
      "          SerValid <= 'b1; // Flag start on next SerClock.\n",
      "          ix       <= 31;  // Ready to start on next SerClock.\n",
      "          end\n",
      "          SerBit   <= 'b0; // Serial bit default.\n",
      "        end\n",
      "      else // ParValid not 1; reset everything:\n",
      "      begin\n",
      "        SerValid <= 'b0;\n",
      "        Done     <= 'b0;\n",
      "        SerBit   <= 'b0; // Serial bit default.\n",
      "      end // if ParValid else\n",
      "  end // always\n",
      "endmodule // ParToSerial.\n",
      "\n"
     ]
    }
   ],
   "source": [
    "tester = test_df.sample().iloc[0]\n",
    "print(\"Book: \", tester[\"image_directory\"].split('/')[-1])\n",
    "print(\"Caption:\\n\", tester[\"caption\"].split(':')[-1])\n",
    "print(\"\\nCode:\\n\", tester[\"code\"])"
   ]
  },
  {
   "cell_type": "code",
   "execution_count": 162,
   "id": "52414ff3",
   "metadata": {},
   "outputs": [
    {
     "data": {
      "image/jpeg": "[encoded data removed]",
      "text/plain": [
       "<IPython.core.display.Image object>"
      ]
     },
     "execution_count": 162,
     "metadata": {},
     "output_type": "execute_result"
    }
   ],
   "source": [
    "display.Image(tester[\"image_directory\"])"
   ]
  },
  {
   "cell_type": "markdown",
   "id": "d80c925e",
   "metadata": {},
   "source": [
    "## Supervised Query Function"
   ]
  },
  {
   "cell_type": "code",
   "execution_count": null,
   "id": "4df0df4f",
   "metadata": {},
   "outputs": [],
   "source": [
    "# oneshot code\n",
    "image_to_code = \"Please respond with only the code present in this image.\"\n",
    "image_to_question = \"Please respond with a question for which the answer is the code snippet on this page.\"\n",
    "image_to_figure = \"Respond with the figure associated with the code present in this image.\"\n",
    "code_to_description = \"You are a helpful assistant that describes pieces of code.\"\n",
    "\n",
    "def info_from_image(image_path, atmps=3, verbose=False, ext='jpeg'):\n",
    "    \"\"\" takes in the link of a local image and gets information about code on it \"\"\"\n",
    "    if ext == \"jpeg\":\n",
    "        base64_image = encode_image(image_path)\n",
    "        image_link = f\"data:image/{ext};base64,{base64_image}\"\n",
    "    elif ext == \"pdf\":  # https://stackoverflow.com/questions/3715493/encoding-an-image-file-with-base64\n",
    "        with open(image_path, \"rb\") as image_file:\n",
    "            base64_image = base64.b64encode(image_file.read())\n",
    "            image_link = f\"data:image/{ext};base64,{base64_image}\"\n",
    "    errors = []\n",
    "    \n",
    "    attempts = 0\n",
    "    raw_code = None  # get gpt to extract code\n",
    "    while attempts < atmps:\n",
    "        try:\n",
    "            raw_code = gpt_image_oneshot(image_link, image_to_code)\n",
    "            attempts = atmps\n",
    "        except Exception as e:\n",
    "            attempts += 1\n",
    "            errors.append(str(e))\n",
    "    if raw_code == None:\n",
    "        print(\"couldnt get code after\", atmps, \"attempts\")\n",
    "        print(errors[-1])\n",
    "    processed_code = \"\" if raw_code == None else '\\n'.join(get_code(raw_code))\n",
    "    \n",
    "    attempts = 0\n",
    "    figure = None  # get gpt to ask a question relating to the code\n",
    "    while attempts < atmps:\n",
    "        try:\n",
    "            figure = gpt_image_oneshot(image_link, image_to_figure)\n",
    "            attempts = atmps\n",
    "        except Exception as e:\n",
    "            attempts += 1\n",
    "            errors.append(str(e))\n",
    "    if figure == None:\n",
    "        print(\"couldnt get figure after\", atmps, \"attempts\")\n",
    "        print(errors[-1])\n",
    "    \n",
    "    attempts = 0\n",
    "    question = None  # get gpt to ask a question relating to the code\n",
    "    while attempts < atmps:\n",
    "        try:\n",
    "            question = gpt_image_oneshot(image_link, image_to_question)\n",
    "            attempts = atmps\n",
    "        except Exception as e:\n",
    "            attempts += 1\n",
    "            errors.append(str(e))\n",
    "    if question == None:\n",
    "        print(\"couldnt get question after\", atmps, \"attempts\")\n",
    "        print(errors[-1])\n",
    "    \n",
    "    attempts = 0\n",
    "    description = None  # get gpt to describe the code\n",
    "    if raw_code != None:\n",
    "        desc_prompt = \"Write a short description for what this piece of Verilog code does:\\n\" + processed_code\n",
    "        while attempts < atmps:\n",
    "            try:\n",
    "                description = gpt_oneshot(desc_prompt, code_to_description)\n",
    "                attempts = atmps\n",
    "            except Exception as e:\n",
    "                attempts += 1\n",
    "                errors.append(str(e))\n",
    "        if description == None:\n",
    "            print(\"couldnt get description after\", atmps, \"attempts\")\n",
    "            print(errors[-1])\n",
    "    \n",
    "    return [image_path, raw_code, processed_code, figure, question, description]"
   ]
  },
  {
   "cell_type": "markdown",
   "id": "ef6e5009",
   "metadata": {},
   "source": [
    "### Small Test Case"
   ]
  },
  {
   "cell_type": "markdown",
   "id": "5d5087d0",
   "metadata": {},
   "source": [
    "tester_im = cwd+\"/testpage.jpg\"\n",
    "results = info_from_image(tester_im, 10, True)\n",
    "display.Image(tester_im)"
   ]
  },
  {
   "cell_type": "code",
   "execution_count": null,
   "id": "48dd0a9b",
   "metadata": {},
   "outputs": [],
   "source": [
    "print(results[4])\n",
    "print()\n",
    "print(results[5])\n",
    "print()\n",
    "print(results[3])\n",
    "print()\n",
    "print(results[2])"
   ]
  },
  {
   "cell_type": "markdown",
   "id": "3fea9a58",
   "metadata": {},
   "source": [
    "## Running Analysis of all Pages"
   ]
  },
  {
   "cell_type": "code",
   "execution_count": null,
   "id": "73142e83",
   "metadata": {
    "scrolled": true
   },
   "outputs": [],
   "source": [
    "# MANUAL SPLITTER: https://pdfcandy.com/blog/how-to-split-pdf-on-mac.html\n",
    "# MANUAL CONVERTER: https://png2jpg.com/\n",
    "\n",
    "# find files\n",
    "book = \"LogicDesignAndVerification-Thomas\"\n",
    "# images_dir = \"/Data/example-code/verilog examples/Textbook SVA/\" + book\n",
    "images_dir = cwd+\"/Data/example-code/verilog examples/pages\"\n",
    "all_images = [images_dir+\"/\"+file for file in os.listdir(images_dir) if \".jpg\" in file]\n",
    "print(\"loaded\", len(all_images), \"jpg images\")\n",
    "\n",
    "# TODO: finalize auto-split & convert\n",
    "# from pdf2image import convert_from_path\n",
    "# pages_dir = images_dir+\"/pages\"\n",
    "# all_pages = [cwd+pages_dir+\"/\"+file for file in os.listdir(cwd+pages_dir) if \".pdf\" in file]\n",
    "# page_count = 0\n",
    "# def pdf_to_jpegs(imdir, verbose=True):\n",
    "#     \"\"\" convert from multi-page pdf to single-page jpeg \"\"\"\n",
    "    \n",
    "#     if verbose: print(\"...converting\", imdir)\n",
    "#     # https://stackoverflow.com/questions/46184239/extract-a-page-from-a-pdf-as-a-jpeg\n",
    "#     pages = convert_from_path(imdir)  # TODO: fix\n",
    "#     for page in pages:\n",
    "#         newpage_dir = pages_dir + \"/\" + book + \"-p\" + str(page_count) + \".jpg\"\n",
    "#         page.save(newpage_dir, 'JPEG')\n",
    "#         all_pages.append(newpage_dir)\n",
    "#         page_count += 1\n",
    "        \n",
    "# for im in all_images:"
   ]
  },
  {
   "cell_type": "code",
   "execution_count": null,
   "id": "8fbc244a",
   "metadata": {},
   "outputs": [],
   "source": [
    "all_results = []\n",
    "for im in tqdm(all_images):\n",
    "    results = info_from_image(im, 10, True)\n",
    "    all_results.append(results)"
   ]
  },
  {
   "cell_type": "markdown",
   "id": "7f8f78f5",
   "metadata": {},
   "source": [
    "### Cleaning Results"
   ]
  },
  {
   "cell_type": "code",
   "execution_count": null,
   "id": "5e452bf7",
   "metadata": {
    "scrolled": true
   },
   "outputs": [],
   "source": [
    "df = pd.DataFrame(all_results, columns=[\"Path\", \"raw_code\", \"Code\", \"Figure\", \"Question\", \"Description\"])\n",
    "\n",
    "# recover author\n",
    "def get_origin(im):\n",
    "    if \"creenshot\" in im:\n",
    "        return \"Mehta\"\n",
    "    else:\n",
    "        return \"Thomas\" \n",
    "df[\"Book\"] = df[\"Path\"].apply(lambda x: get_origin(x))  \n",
    "\n",
    "# cleaning\n",
    "df, failed_count, messages, inds = get_failed_request(df)\n",
    "df.isna().sum()"
   ]
  },
  {
   "cell_type": "code",
   "execution_count": null,
   "id": "8ee8fb03",
   "metadata": {},
   "outputs": [],
   "source": [
    "df"
   ]
  },
  {
   "cell_type": "markdown",
   "id": "63d041f5",
   "metadata": {},
   "source": [
    "### Saving Results"
   ]
  },
  {
   "cell_type": "code",
   "execution_count": null,
   "id": "f692439e",
   "metadata": {},
   "outputs": [],
   "source": [
    "save_dir = \"Data/example-code/verilog examples/pages-gptresponse.csv\"\n",
    "df.to_csv(save_dir)\n",
    "print(\"SAVED TO\", save_dir)\n",
    "\n",
    "# df = pd.read_csv(save_dir)"
   ]
  },
  {
   "cell_type": "code",
   "execution_count": null,
   "id": "188ebe60",
   "metadata": {},
   "outputs": [],
   "source": [
    "# Future Work Notes\n",
    "\n",
    "# TODO: use this as a baseline for future examples\n",
    "# TODO: assertion-specific dataset and \n",
    "# TODO: later, then a more general datas\n",
    "# raw code datasets --> snippers can be wrong and have bugs - llms are fine-tuned on prompts and responses\n",
    "# creation of the first \"high-quality\" prompt-response dataset with sva --> \n",
    "\n",
    "# RAW PYTHON, RAW SVA, SUPERVISED SVA (from textbooks)\n",
    "# Note; should be qualitative analysis with examples --> primarily this is the dataset, the crux is that this is one benefit of using the dataset\n",
    "# conclude with some basic evaluation of the usefulness of the dataset"
   ]
  },
  {
   "cell_type": "markdown",
   "id": "b32acc5f",
   "metadata": {},
   "source": [
    "## Short Analysis"
   ]
  },
  {
   "cell_type": "code",
   "execution_count": null,
   "id": "20761c29",
   "metadata": {},
   "outputs": [],
   "source": [
    "df = pd.read_csv(\"Data/example-code/verilog examples/pages-gptresponse.csv\")\n",
    "df.head()"
   ]
  },
  {
   "cell_type": "code",
   "execution_count": null,
   "id": "3cb2dd2c",
   "metadata": {},
   "outputs": [],
   "source": [
    "ind = 3\n",
    "print(df.iloc[ind][\"Code\"])"
   ]
  },
  {
   "cell_type": "code",
   "execution_count": null,
   "id": "8fd5ad61",
   "metadata": {},
   "outputs": [],
   "source": [
    "display.Image(df.iloc[ind][\"Path\"])"
   ]
  }
 ],
 "metadata": {
  "kernelspec": {
   "display_name": "Python 3 (ipykernel)",
   "language": "python",
   "name": "python3"
  },
  "language_info": {
   "codemirror_mode": {
    "name": "ipython",
    "version": 3
   },
   "file_extension": ".py",
   "mimetype": "text/x-python",
   "name": "python",
   "nbconvert_exporter": "python",
   "pygments_lexer": "ipython3",
   "version": "3.9.12"
  }
 },
 "nbformat": 4,
 "nbformat_minor": 5
}
