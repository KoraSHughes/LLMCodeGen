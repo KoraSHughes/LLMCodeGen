{
 "cells": [
  {
   "cell_type": "code",
   "execution_count": null,
   "id": "f83b22b6",
   "metadata": {},
   "outputs": [],
   "source": [
    "import os\n",
    "import openai\n",
    "from tqdm import tqdm\n",
    "import pandas as pd\n",
    "import numpy as np\n",
    "\n",
    "from IPython import display\n",
    "\n",
    "cwd = os.getcwd()"
   ]
  },
  {
   "cell_type": "markdown",
   "id": "0cee2827",
   "metadata": {},
   "source": [
    "## Main GPT Functions"
   ]
  },
  {
   "cell_type": "code",
   "execution_count": null,
   "id": "5b4a3c25",
   "metadata": {
    "scrolled": true
   },
   "outputs": [],
   "source": [
    "OPENAI_API_KEY = os.environ['OPENAI_API_KEY']\n",
    "openai.api_key = OPENAI_API_KEY\n",
    "\n",
    "def run_gpt(messages, this_model=\"gpt-3.5-turbo\"):\n",
    "    response = openai.ChatCompletion.create(\n",
    "        model=this_model,\n",
    "        messages=messages\n",
    "    )\n",
    "    return response\n",
    "\n",
    "\n",
    "def gpt_oneshot(input_prompt, directive=\"You are a helpful assistant.\", verbose=False):\n",
    "    message_hist = [{\"role\": \"system\", \"content\": directive},  # add directed\n",
    "                    {\"role\": \"user\", \"content\": input_prompt}]  # init\n",
    "    response = run_gpt(message_hist)[\"choices\"][0][\"message\"][\"content\"]\n",
    "    if verbose:\n",
    "        print(\"chat_gpt: \", response, '\\n')\n",
    "#     message_hist.append({\"role\": \"system\", \"content\": response})\n",
    "    return response"
   ]
  },
  {
   "cell_type": "code",
   "execution_count": null,
   "id": "f519afd0",
   "metadata": {
    "scrolled": true
   },
   "outputs": [],
   "source": [
    "# https://platform.openai.com/docs/guides/vision\n",
    "def gpt_image_oneshot(image_link, new_prompt=\"Please respond with a question for which the answer is the code snippet on this page.\",\n",
    "                        verbose=False):\n",
    "    # \"This image contains a block of Verilog code and text relating to it. \"+...\n",
    "    new_content = [{\"type\": \"text\", \"text\": \"This image contains some information about Verilog. \"+new_prompt},\n",
    "                    {\"type\": \"image_url\", \"image_url\": {\"url\": image_link}}]\n",
    "    message_hist = [{\"role\": \"system\", \"content\": \"You are a helpful assistant that gives information on images of code.\"},\n",
    "                    {\"role\": \"user\", \"content\": new_content}]  # init\n",
    "    if verbose:\n",
    "        print(\"Asked:\", new_content[0][\"text\"])\n",
    "#         print(\"With Image:\", new_content[1][\"image_url\"][\"url\"])\n",
    "    response = run_gpt(message_hist, \"gpt-4-vision-preview\")[\"choices\"][0][\"message\"][\"content\"]\n",
    "    if verbose: print(\"\\nResponded With:\", response)\n",
    "    return response\n",
    "# TODO account for timout issue\n",
    "# TODO account for copyright\n",
    "\n",
    "# test_image1 = cwd+\"/testpage.jpg\"\n",
    "# base64_image = encode_image(image_path)\n",
    "# my_link3 = f\"data:image/jpeg;base64,{base64_image}\"\n",
    "# rep = gpt_image_oneshot(my_link3, \"Please respond with a question for which the answer is the code snippet on this page.\", True)\n",
    "\n",
    "# print()\n",
    "# for code_snip in get_code(rep):\n",
    "#     print(code_snip)\n",
    "#     print()\n",
    "\n",
    "# display.Image(file_dir)"
   ]
  },
  {
   "cell_type": "markdown",
   "id": "b06cbe69",
   "metadata": {},
   "source": [
    "### Cleaning Functions"
   ]
  },
  {
   "cell_type": "code",
   "execution_count": null,
   "id": "872344ad",
   "metadata": {},
   "outputs": [],
   "source": [
    "def get_failed_request(df, identifier=\"I'm sorry\", setna=True, verbose=True):\n",
    "    inds = set()\n",
    "    messages = set()\n",
    "    failed_count = 0\n",
    "    for i, row in df.iterrows():\n",
    "        for col in df.columns:\n",
    "            if identifier in str(row[col]):\n",
    "                inds.add(i)\n",
    "                messages.add(row[col])\n",
    "                failed_count += 1\n",
    "                if setna:\n",
    "                    df.loc[i, col] = np.nan\n",
    "    if verbose:\n",
    "        copy_count = sum([1 for mes in messages if \"copyright\" in mes])\n",
    "        print(\"found\", len(inds), \"rows with bad requests and a total of\", failed_count, \"cells of bad calls\")\n",
    "        print(len(messages), \"of which where unique and\", copy_count, \"of which were identified as copyright related\")\n",
    "        if len(messages) > 0:\n",
    "            print(\"\\nan example of this is:\\n\", list(messages)[0])\n",
    "    return df, failed_count, messages, inds"
   ]
  },
  {
   "cell_type": "markdown",
   "id": "472a1de3",
   "metadata": {},
   "source": [
    "### Helpers"
   ]
  },
  {
   "cell_type": "code",
   "execution_count": null,
   "id": "74a755cc",
   "metadata": {},
   "outputs": [],
   "source": [
    "# helpers\n",
    "import base64\n",
    "\n",
    "# Function to encode the image\n",
    "def encode_image(image_path):\n",
    "    with open(image_path, \"rb\") as image_file:\n",
    "        return base64.b64encode(image_file.read()).decode('utf-8')\n",
    "\n",
    "\n",
    "def get_code(text):\n",
    "    if text is None or len(text) == 0:\n",
    "        return []\n",
    "    this_code = []\n",
    "    for i, code_chunk in enumerate(text.split('```')):  # pieces of code are denoted by ``` so we split\n",
    "        if i%2 == 1:  # every other chunk is a piece of code in this case\n",
    "            this_code.append(code_chunk[7:])  # Note: code declarations also have 'python\\n' denoting the language, since we dont need this, we omit the first 7 chars\n",
    "    return this_code\n"
   ]
  },
  {
   "cell_type": "markdown",
   "id": "f11bfaea",
   "metadata": {},
   "source": [
    "## Code Extraction Functions"
   ]
  },
  {
   "cell_type": "code",
   "execution_count": null,
   "id": "ec88643f",
   "metadata": {},
   "outputs": [],
   "source": [
    "bad_message = \"NO CODE\"\n",
    "ask_code = \"If there is code on this page the please write it. Otherwise say \\\"\"+bad_message+\"\\\"\"\n",
    "ask_caption = \"This image also contains some Verilog code in it. Give a short caption associated with this code.\"\n",
    "\n",
    "indicators = [\"```\"]\n",
    "def has_code(message):\n",
    "    message = message.strip()\n",
    "    if bad_message in message:\n",
    "        return False  # instant signal\n",
    "    for ind in indicators:\n",
    "        if ind in message:\n",
    "            return True\n",
    "    return False\n",
    "\n",
    "def extract_code(image_path, atmps=3, verbose=False):\n",
    "    \"\"\" takes in the link of a local image and gets information about code on it \"\"\"\n",
    "    base64_image = encode_image(image_path)\n",
    "    image_link = f\"data:image/jpeg;base64,{base64_image}\"\n",
    "    \n",
    "    attempts = 0\n",
    "    raw_code = \"\"  # get gpt to extract code\n",
    "    while attempts < atmps:\n",
    "        try:\n",
    "            raw_code = gpt_image_oneshot(image_link, ask_code)\n",
    "            attempts = atmps\n",
    "        except Exception as e:\n",
    "            attempts += 1\n",
    "            if verbose: print(\"Encountered error:\", e)\n",
    "    # if there was some output we save it\n",
    "    if raw_code == \"\":\n",
    "        print(\"*couldnt get code after\", atmps, \"attempts\")\n",
    "    else:\n",
    "        processed_code = \"\"\n",
    "        caption = None\n",
    "        is_code = has_code(raw_code)\n",
    "        if is_code:\n",
    "            processed_code = '\\n'.join(get_code(raw_code))\n",
    "            attempts = 0\n",
    "            while attempts < atmps:\n",
    "                try:\n",
    "                    caption = gpt_image_oneshot(image_link, ask_caption)\n",
    "                    attempts = atmps\n",
    "                except Exception as e:\n",
    "                    attempts += 1\n",
    "                    if verbose: print(\"Encountered error:\", e)\n",
    "        has_finished = is_code and (caption != \"\")  # signifier that we have consistent output on both fronts\n",
    "        return [image_path, has_finished, raw_code, processed_code, caption]"
   ]
  },
  {
   "cell_type": "markdown",
   "id": "35c66003",
   "metadata": {},
   "source": [
    "### Pipeline"
   ]
  },
  {
   "cell_type": "code",
   "execution_count": 88,
   "id": "4efc5eb2",
   "metadata": {},
   "outputs": [
    {
     "name": "stdout",
     "output_type": "stream",
     "text": [
      "Found 4822 files\n",
      "\n"
     ]
    },
    {
     "name": "stderr",
     "output_type": "stream",
     "text": [
      "100%|██████████| 1185/1185 [2:19:22<00:00,  7.06s/it] \n"
     ]
    }
   ],
   "source": [
    "# find file directories\n",
    "data_dir = \"Data/example-code/verilog examples/Textbook SVA/Book-Verilog/paginated/\"\n",
    "ims = [data_dir+file for file in os.listdir(data_dir) if 'jpg' in file]\n",
    "print(\"Found\", len(ims), \"files\\n\")\n",
    "\n",
    "# process them\n",
    "results = []\n",
    "for im in tqdm(ims[3637:]):  # not last left off at 3637\n",
    "    results.append(extract_code(im, 5))"
   ]
  },
  {
   "cell_type": "markdown",
   "id": "7f30a59a",
   "metadata": {},
   "source": [
    "### Cleaning & Saving"
   ]
  },
  {
   "cell_type": "code",
   "execution_count": 89,
   "id": "9d1fb93a",
   "metadata": {},
   "outputs": [
    {
     "name": "stdout",
     "output_type": "stream",
     "text": [
      "Found 648 / 1185 complete rows\n",
      "Found 193 / 1185 asserted rows\n"
     ]
    },
    {
     "data": {
      "text/html": [
       "<div>\n",
       "<style scoped>\n",
       "    .dataframe tbody tr th:only-of-type {\n",
       "        vertical-align: middle;\n",
       "    }\n",
       "\n",
       "    .dataframe tbody tr th {\n",
       "        vertical-align: top;\n",
       "    }\n",
       "\n",
       "    .dataframe thead th {\n",
       "        text-align: right;\n",
       "    }\n",
       "</style>\n",
       "<table border=\"1\" class=\"dataframe\">\n",
       "  <thead>\n",
       "    <tr style=\"text-align: right;\">\n",
       "      <th></th>\n",
       "      <th>image_directory</th>\n",
       "      <th>isComplete</th>\n",
       "      <th>raw_code</th>\n",
       "      <th>code</th>\n",
       "      <th>caption</th>\n",
       "      <th>hasAssert</th>\n",
       "    </tr>\n",
       "  </thead>\n",
       "  <tbody>\n",
       "    <tr>\n",
       "      <th>0</th>\n",
       "      <td>Data/example-code/verilog examples/Textbook SV...</td>\n",
       "      <td>True</td>\n",
       "      <td>The image contains the following Verilog/Syste...</td>\n",
       "      <td>\\nclass driver;\\n  virtual arb_ifc arb;       ...</td>\n",
       "      <td>\"Example of a SystemVerilog class with a virtu...</td>\n",
       "      <td>False</td>\n",
       "    </tr>\n",
       "    <tr>\n",
       "      <th>1</th>\n",
       "      <td>Data/example-code/verilog examples/Textbook SV...</td>\n",
       "      <td>False</td>\n",
       "      <td>NO CODE</td>\n",
       "      <td></td>\n",
       "      <td>None</td>\n",
       "      <td>False</td>\n",
       "    </tr>\n",
       "    <tr>\n",
       "      <th>2</th>\n",
       "      <td>Data/example-code/verilog examples/Textbook SV...</td>\n",
       "      <td>False</td>\n",
       "      <td>NO CODE</td>\n",
       "      <td></td>\n",
       "      <td>None</td>\n",
       "      <td>False</td>\n",
       "    </tr>\n",
       "    <tr>\n",
       "      <th>3</th>\n",
       "      <td>Data/example-code/verilog examples/Textbook SV...</td>\n",
       "      <td>True</td>\n",
       "      <td>The image contains Verilog code snippets. Here...</td>\n",
       "      <td>\\nlogic signed [11:0] a;\\na = 12'shFF; // GOTC...</td>\n",
       "      <td>\"Common pitfalls in Verilog related to signed ...</td>\n",
       "      <td>False</td>\n",
       "    </tr>\n",
       "    <tr>\n",
       "      <th>4</th>\n",
       "      <td>Data/example-code/verilog examples/Textbook SV...</td>\n",
       "      <td>False</td>\n",
       "      <td>NO CODE</td>\n",
       "      <td></td>\n",
       "      <td>None</td>\n",
       "      <td>False</td>\n",
       "    </tr>\n",
       "    <tr>\n",
       "      <th>...</th>\n",
       "      <td>...</td>\n",
       "      <td>...</td>\n",
       "      <td>...</td>\n",
       "      <td>...</td>\n",
       "      <td>...</td>\n",
       "      <td>...</td>\n",
       "    </tr>\n",
       "    <tr>\n",
       "      <th>1180</th>\n",
       "      <td>Data/example-code/verilog examples/Textbook SV...</td>\n",
       "      <td>True</td>\n",
       "      <td>There is a snippet of Verilog code in the imag...</td>\n",
       "      <td>\\nalways @(posedge clock)\\n    $read_test_vect...</td>\n",
       "      <td>Verilog PLI: Utilizing the `misctf` routine fo...</td>\n",
       "      <td>False</td>\n",
       "    </tr>\n",
       "    <tr>\n",
       "      <th>1181</th>\n",
       "      <td>Data/example-code/verilog examples/Textbook SV...</td>\n",
       "      <td>True</td>\n",
       "      <td>The image contains two sections of Verilog cod...</td>\n",
       "      <td>\\nmodule m_illegal_disable_nesting(logic reset...</td>\n",
       "      <td>\"Example of Verilog code demonstrating illegal...</td>\n",
       "      <td>True</td>\n",
       "    </tr>\n",
       "    <tr>\n",
       "      <th>1182</th>\n",
       "      <td>Data/example-code/verilog examples/Textbook SV...</td>\n",
       "      <td>True</td>\n",
       "      <td>```verilog\\nalways @(s1global_clock)\\n    o &lt;=...</td>\n",
       "      <td>\\nalways @(s1global_clock)\\n    o &lt;= a;\\nendmo...</td>\n",
       "      <td>Caption: \"Excerpt from a book discussing Veril...</td>\n",
       "      <td>False</td>\n",
       "    </tr>\n",
       "    <tr>\n",
       "      <th>1183</th>\n",
       "      <td>Data/example-code/verilog examples/Textbook SV...</td>\n",
       "      <td>False</td>\n",
       "      <td>NO CODE</td>\n",
       "      <td></td>\n",
       "      <td>None</td>\n",
       "      <td>False</td>\n",
       "    </tr>\n",
       "    <tr>\n",
       "      <th>1184</th>\n",
       "      <td>Data/example-code/verilog examples/Textbook SV...</td>\n",
       "      <td>True</td>\n",
       "      <td>The image contains both documentation text and...</td>\n",
       "      <td>\\nmodule block;\\n  import \"DPI-C\" context func...</td>\n",
       "      <td>Exporting a SystemVerilog function for interfa...</td>\n",
       "      <td>False</td>\n",
       "    </tr>\n",
       "  </tbody>\n",
       "</table>\n",
       "<p>1185 rows × 6 columns</p>\n",
       "</div>"
      ],
      "text/plain": [
       "                                        image_directory  isComplete  \\\n",
       "0     Data/example-code/verilog examples/Textbook SV...        True   \n",
       "1     Data/example-code/verilog examples/Textbook SV...       False   \n",
       "2     Data/example-code/verilog examples/Textbook SV...       False   \n",
       "3     Data/example-code/verilog examples/Textbook SV...        True   \n",
       "4     Data/example-code/verilog examples/Textbook SV...       False   \n",
       "...                                                 ...         ...   \n",
       "1180  Data/example-code/verilog examples/Textbook SV...        True   \n",
       "1181  Data/example-code/verilog examples/Textbook SV...        True   \n",
       "1182  Data/example-code/verilog examples/Textbook SV...        True   \n",
       "1183  Data/example-code/verilog examples/Textbook SV...       False   \n",
       "1184  Data/example-code/verilog examples/Textbook SV...        True   \n",
       "\n",
       "                                               raw_code  \\\n",
       "0     The image contains the following Verilog/Syste...   \n",
       "1                                               NO CODE   \n",
       "2                                               NO CODE   \n",
       "3     The image contains Verilog code snippets. Here...   \n",
       "4                                               NO CODE   \n",
       "...                                                 ...   \n",
       "1180  There is a snippet of Verilog code in the imag...   \n",
       "1181  The image contains two sections of Verilog cod...   \n",
       "1182  ```verilog\\nalways @(s1global_clock)\\n    o <=...   \n",
       "1183                                            NO CODE   \n",
       "1184  The image contains both documentation text and...   \n",
       "\n",
       "                                                   code  \\\n",
       "0     \\nclass driver;\\n  virtual arb_ifc arb;       ...   \n",
       "1                                                         \n",
       "2                                                         \n",
       "3     \\nlogic signed [11:0] a;\\na = 12'shFF; // GOTC...   \n",
       "4                                                         \n",
       "...                                                 ...   \n",
       "1180  \\nalways @(posedge clock)\\n    $read_test_vect...   \n",
       "1181  \\nmodule m_illegal_disable_nesting(logic reset...   \n",
       "1182  \\nalways @(s1global_clock)\\n    o <= a;\\nendmo...   \n",
       "1183                                                      \n",
       "1184  \\nmodule block;\\n  import \"DPI-C\" context func...   \n",
       "\n",
       "                                                caption  hasAssert  \n",
       "0     \"Example of a SystemVerilog class with a virtu...      False  \n",
       "1                                                  None      False  \n",
       "2                                                  None      False  \n",
       "3     \"Common pitfalls in Verilog related to signed ...      False  \n",
       "4                                                  None      False  \n",
       "...                                                 ...        ...  \n",
       "1180  Verilog PLI: Utilizing the `misctf` routine fo...      False  \n",
       "1181  \"Example of Verilog code demonstrating illegal...       True  \n",
       "1182  Caption: \"Excerpt from a book discussing Veril...      False  \n",
       "1183                                               None      False  \n",
       "1184  Exporting a SystemVerilog function for interfa...      False  \n",
       "\n",
       "[1185 rows x 6 columns]"
      ]
     },
     "execution_count": 89,
     "metadata": {},
     "output_type": "execute_result"
    }
   ],
   "source": [
    "df = pd.DataFrame(results, columns=[\"image_directory\", \"isComplete\", \"raw_code\", \"code\", \"caption\"])\n",
    "print(\"Found\", len(df[df[\"isComplete\"]==True]), \"/\", len(df), \"complete rows\")\n",
    "df[\"hasAssert\"] = df[\"code\"].apply(lambda x: True if 'assert' in str(x).lower() else False)\n",
    "print(\"Found\", len(df[df[\"hasAssert\"]==True]), \"/\", len(df), \"asserted rows\")\n",
    "df"
   ]
  },
  {
   "cell_type": "code",
   "execution_count": 90,
   "id": "f0191292",
   "metadata": {},
   "outputs": [
    {
     "name": "stdout",
     "output_type": "stream",
     "text": [
      "found 0 rows with bad requests and a total of 0 cells of bad calls\n",
      "0 of which where unique and 0 of which were identified as copyright related\n"
     ]
    },
    {
     "data": {
      "text/plain": [
       "image_directory      0\n",
       "isComplete           0\n",
       "raw_code             0\n",
       "code                 0\n",
       "caption            537\n",
       "hasAssert            0\n",
       "dtype: int64"
      ]
     },
     "execution_count": 90,
     "metadata": {},
     "output_type": "execute_result"
    }
   ],
   "source": [
    "# df[\"raw_code\"] = df[\"raw_code\"].apply(lambda x: np.nan if x.strip()==bad_message else x)\n",
    "df, failed_count, messages, inds = get_failed_request(df)\n",
    "# print(\"\\n\")\n",
    "# df, failed_count2, messages2, inds2 = get_failed_request(df, bad_message)\n",
    "\n",
    "df.isna().sum()\n",
    "# print(df.iloc[0][\"code\"])"
   ]
  },
  {
   "cell_type": "code",
   "execution_count": 91,
   "id": "44ceb023",
   "metadata": {},
   "outputs": [
    {
     "name": "stdout",
     "output_type": "stream",
     "text": [
      "SAVED TO Data/example-code/verilog examples/fulltextbook-gptresponse2.csv\n"
     ]
    }
   ],
   "source": [
    "save_dir = \"Data/example-code/verilog examples/fulltextbook-gptresponse2.csv\"\n",
    "df.to_csv(save_dir, index=False)\n",
    "print(\"SAVED TO\", save_dir)"
   ]
  },
  {
   "cell_type": "code",
   "execution_count": 106,
   "id": "9ccbabb5",
   "metadata": {},
   "outputs": [
    {
     "data": {
      "text/html": [
       "<div>\n",
       "<style scoped>\n",
       "    .dataframe tbody tr th:only-of-type {\n",
       "        vertical-align: middle;\n",
       "    }\n",
       "\n",
       "    .dataframe tbody tr th {\n",
       "        vertical-align: top;\n",
       "    }\n",
       "\n",
       "    .dataframe thead th {\n",
       "        text-align: right;\n",
       "    }\n",
       "</style>\n",
       "<table border=\"1\" class=\"dataframe\">\n",
       "  <thead>\n",
       "    <tr style=\"text-align: right;\">\n",
       "      <th></th>\n",
       "      <th>image_directory</th>\n",
       "      <th>isComplete</th>\n",
       "      <th>raw_code</th>\n",
       "      <th>code</th>\n",
       "      <th>caption</th>\n",
       "      <th>hasAssert</th>\n",
       "    </tr>\n",
       "  </thead>\n",
       "  <tbody>\n",
       "    <tr>\n",
       "      <th>0</th>\n",
       "      <td>Data/example-code/verilog examples/Textbook SV...</td>\n",
       "      <td>True</td>\n",
       "      <td>The image contains Verilog code, which I'll wr...</td>\n",
       "      <td>\\nimport \"DPI-C\" function chandle counter7_new...</td>\n",
       "      <td>Verilog code example for testing a 7-bit count...</td>\n",
       "      <td>False</td>\n",
       "    </tr>\n",
       "    <tr>\n",
       "      <th>1</th>\n",
       "      <td>Data/example-code/verilog examples/Textbook SV...</td>\n",
       "      <td>True</td>\n",
       "      <td>The image contains a snippet of Verilog code, ...</td>\n",
       "      <td>\\nproperty abc;\\n  @(posedge clk) a |=&gt; b[=2:5...</td>\n",
       "      <td>\"Explaining Verilog Non-consecutive Repetition...</td>\n",
       "      <td>False</td>\n",
       "    </tr>\n",
       "    <tr>\n",
       "      <th>2</th>\n",
       "      <td>Data/example-code/verilog examples/Textbook SV...</td>\n",
       "      <td>True</td>\n",
       "      <td>The image contains code written in the Verilog...</td>\n",
       "      <td>\\nfunction void Environment::build();\\n    // ...</td>\n",
       "      <td>Caption: \"Example of Verilog code for building...</td>\n",
       "      <td>False</td>\n",
       "    </tr>\n",
       "    <tr>\n",
       "      <th>3</th>\n",
       "      <td>Data/example-code/verilog examples/Textbook SV...</td>\n",
       "      <td>False</td>\n",
       "      <td>NO CODE</td>\n",
       "      <td>NaN</td>\n",
       "      <td>NaN</td>\n",
       "      <td>False</td>\n",
       "    </tr>\n",
       "    <tr>\n",
       "      <th>4</th>\n",
       "      <td>Data/example-code/verilog examples/Textbook SV...</td>\n",
       "      <td>False</td>\n",
       "      <td>NO CODE</td>\n",
       "      <td>NaN</td>\n",
       "      <td>NaN</td>\n",
       "      <td>False</td>\n",
       "    </tr>\n",
       "    <tr>\n",
       "      <th>...</th>\n",
       "      <td>...</td>\n",
       "      <td>...</td>\n",
       "      <td>...</td>\n",
       "      <td>...</td>\n",
       "      <td>...</td>\n",
       "      <td>...</td>\n",
       "    </tr>\n",
       "    <tr>\n",
       "      <th>4817</th>\n",
       "      <td>Data/example-code/verilog examples/Textbook SV...</td>\n",
       "      <td>True</td>\n",
       "      <td>There is a snippet of Verilog code in the imag...</td>\n",
       "      <td>\\nalways @(posedge clock)\\n    $read_test_vect...</td>\n",
       "      <td>Verilog PLI: Utilizing the `misctf` routine fo...</td>\n",
       "      <td>False</td>\n",
       "    </tr>\n",
       "    <tr>\n",
       "      <th>4818</th>\n",
       "      <td>Data/example-code/verilog examples/Textbook SV...</td>\n",
       "      <td>True</td>\n",
       "      <td>The image contains two sections of Verilog cod...</td>\n",
       "      <td>\\nmodule m_illegal_disable_nesting(logic reset...</td>\n",
       "      <td>\"Example of Verilog code demonstrating illegal...</td>\n",
       "      <td>True</td>\n",
       "    </tr>\n",
       "    <tr>\n",
       "      <th>4819</th>\n",
       "      <td>Data/example-code/verilog examples/Textbook SV...</td>\n",
       "      <td>True</td>\n",
       "      <td>```verilog\\nalways @(s1global_clock)\\n    o &lt;=...</td>\n",
       "      <td>\\nalways @(s1global_clock)\\n    o &lt;= a;\\nendmo...</td>\n",
       "      <td>Caption: \"Excerpt from a book discussing Veril...</td>\n",
       "      <td>False</td>\n",
       "    </tr>\n",
       "    <tr>\n",
       "      <th>4820</th>\n",
       "      <td>Data/example-code/verilog examples/Textbook SV...</td>\n",
       "      <td>False</td>\n",
       "      <td>NO CODE</td>\n",
       "      <td>NaN</td>\n",
       "      <td>NaN</td>\n",
       "      <td>False</td>\n",
       "    </tr>\n",
       "    <tr>\n",
       "      <th>4821</th>\n",
       "      <td>Data/example-code/verilog examples/Textbook SV...</td>\n",
       "      <td>True</td>\n",
       "      <td>The image contains both documentation text and...</td>\n",
       "      <td>\\nmodule block;\\n  import \"DPI-C\" context func...</td>\n",
       "      <td>Exporting a SystemVerilog function for interfa...</td>\n",
       "      <td>False</td>\n",
       "    </tr>\n",
       "  </tbody>\n",
       "</table>\n",
       "<p>4822 rows × 6 columns</p>\n",
       "</div>"
      ],
      "text/plain": [
       "                                        image_directory  isComplete  \\\n",
       "0     Data/example-code/verilog examples/Textbook SV...        True   \n",
       "1     Data/example-code/verilog examples/Textbook SV...        True   \n",
       "2     Data/example-code/verilog examples/Textbook SV...        True   \n",
       "3     Data/example-code/verilog examples/Textbook SV...       False   \n",
       "4     Data/example-code/verilog examples/Textbook SV...       False   \n",
       "...                                                 ...         ...   \n",
       "4817  Data/example-code/verilog examples/Textbook SV...        True   \n",
       "4818  Data/example-code/verilog examples/Textbook SV...        True   \n",
       "4819  Data/example-code/verilog examples/Textbook SV...        True   \n",
       "4820  Data/example-code/verilog examples/Textbook SV...       False   \n",
       "4821  Data/example-code/verilog examples/Textbook SV...        True   \n",
       "\n",
       "                                               raw_code  \\\n",
       "0     The image contains Verilog code, which I'll wr...   \n",
       "1     The image contains a snippet of Verilog code, ...   \n",
       "2     The image contains code written in the Verilog...   \n",
       "3                                               NO CODE   \n",
       "4                                               NO CODE   \n",
       "...                                                 ...   \n",
       "4817  There is a snippet of Verilog code in the imag...   \n",
       "4818  The image contains two sections of Verilog cod...   \n",
       "4819  ```verilog\\nalways @(s1global_clock)\\n    o <=...   \n",
       "4820                                            NO CODE   \n",
       "4821  The image contains both documentation text and...   \n",
       "\n",
       "                                                   code  \\\n",
       "0     \\nimport \"DPI-C\" function chandle counter7_new...   \n",
       "1     \\nproperty abc;\\n  @(posedge clk) a |=> b[=2:5...   \n",
       "2     \\nfunction void Environment::build();\\n    // ...   \n",
       "3                                                   NaN   \n",
       "4                                                   NaN   \n",
       "...                                                 ...   \n",
       "4817  \\nalways @(posedge clock)\\n    $read_test_vect...   \n",
       "4818  \\nmodule m_illegal_disable_nesting(logic reset...   \n",
       "4819  \\nalways @(s1global_clock)\\n    o <= a;\\nendmo...   \n",
       "4820                                                NaN   \n",
       "4821  \\nmodule block;\\n  import \"DPI-C\" context func...   \n",
       "\n",
       "                                                caption  hasAssert  \n",
       "0     Verilog code example for testing a 7-bit count...      False  \n",
       "1     \"Explaining Verilog Non-consecutive Repetition...      False  \n",
       "2     Caption: \"Example of Verilog code for building...      False  \n",
       "3                                                   NaN      False  \n",
       "4                                                   NaN      False  \n",
       "...                                                 ...        ...  \n",
       "4817  Verilog PLI: Utilizing the `misctf` routine fo...      False  \n",
       "4818  \"Example of Verilog code demonstrating illegal...       True  \n",
       "4819  Caption: \"Excerpt from a book discussing Veril...      False  \n",
       "4820                                                NaN      False  \n",
       "4821  Exporting a SystemVerilog function for interfa...      False  \n",
       "\n",
       "[4822 rows x 6 columns]"
      ]
     },
     "execution_count": 106,
     "metadata": {},
     "output_type": "execute_result"
    }
   ],
   "source": [
    "df = pd.read_csv(\"Data/example-code/verilog examples/fulltextbook-gptresponse.csv\")\n",
    "df"
   ]
  },
  {
   "cell_type": "code",
   "execution_count": 112,
   "id": "3516140f",
   "metadata": {},
   "outputs": [
    {
     "name": "stdout",
     "output_type": "stream",
     "text": [
      "Caption:\n",
      " Caption: \"Examples of formal and actual argument specification in Verilog, demonstrating default value assignment and position-based connections.\" \n",
      "Code:\n",
      " \n",
      "logic req, gnt;\n",
      "\n",
      "property pr1 (enb=1'b1, logic pa, logic pb);\n",
      "    @(posedge clk) enb |-> pa ##2 pb;\n",
      "endproperty\n",
      "\n",
      "reqGnt: assert property (pr1(cStart,req,gnt));\n",
      "\n",
      "\n",
      "reqGnt: assert property ( pr1 ( .pa(req), .pb(gnt) ));\n",
      "\n",
      "\n",
      "reqGnt: assert property ( pr1 ( , .req,gnt));\n",
      "\n",
      "\n",
      "property pr1 (int dSize, csig, enb=1'b1, logic pa, logic pb);\n",
      "\n",
      "logic [dSize:0] Ldata;\n",
      "\n",
      "@(csig, Ldata=data) enb |-> pa ##2 pb;\n",
      "\n",
      "endproperty\n",
      "\n",
      "reqGnt: assert property (pr1('d31,posedge clk,cStart, req, gnt));\n",
      "\n"
     ]
    }
   ],
   "source": [
    "tester = df.sample().iloc[0]\n",
    "print(\"Caption:\\n\", tester[\"caption\"], \"\\nCode:\\n\", tester[\"code\"])"
   ]
  },
  {
   "cell_type": "code",
   "execution_count": 108,
   "id": "8e552350",
   "metadata": {},
   "outputs": [
    {
     "name": "stdout",
     "output_type": "stream",
     "text": [
      "SAVED TO Data/example-code/verilog examples/fulltextbook-gptresponse.csv\n"
     ]
    }
   ],
   "source": [
    "save_dir = \"Data/example-code/verilog examples/fulltextbook-gptresponse.csv\"\n",
    "df.to_csv(save_dir, index=False)\n",
    "print(\"SAVED TO\", save_dir)"
   ]
  },
  {
   "cell_type": "markdown",
   "id": "d80c925e",
   "metadata": {},
   "source": [
    "## Supervised Query Function"
   ]
  },
  {
   "cell_type": "code",
   "execution_count": null,
   "id": "4df0df4f",
   "metadata": {},
   "outputs": [],
   "source": [
    "# oneshot code\n",
    "image_to_code = \"Please respond with only the code present in this image.\"\n",
    "image_to_question = \"Please respond with a question for which the answer is the code snippet on this page.\"\n",
    "image_to_figure = \"Respond with the figure associated with the code present in this image.\"\n",
    "code_to_description = \"You are a helpful assistant that describes pieces of code.\"\n",
    "\n",
    "def info_from_image(image_path, atmps=3, verbose=False, ext='jpeg'):\n",
    "    \"\"\" takes in the link of a local image and gets information about code on it \"\"\"\n",
    "    if ext == \"jpeg\":\n",
    "        base64_image = encode_image(image_path)\n",
    "        image_link = f\"data:image/{ext};base64,{base64_image}\"\n",
    "    elif ext == \"pdf\":  # https://stackoverflow.com/questions/3715493/encoding-an-image-file-with-base64\n",
    "        with open(image_path, \"rb\") as image_file:\n",
    "            base64_image = base64.b64encode(image_file.read())\n",
    "            image_link = f\"data:image/{ext};base64,{base64_image}\"\n",
    "    errors = []\n",
    "    \n",
    "    attempts = 0\n",
    "    raw_code = None  # get gpt to extract code\n",
    "    while attempts < atmps:\n",
    "        try:\n",
    "            raw_code = gpt_image_oneshot(image_link, image_to_code)\n",
    "            attempts = atmps\n",
    "        except Exception as e:\n",
    "            attempts += 1\n",
    "            errors.append(str(e))\n",
    "    if raw_code == None:\n",
    "        print(\"couldnt get code after\", atmps, \"attempts\")\n",
    "        print(errors[-1])\n",
    "    processed_code = \"\" if raw_code == None else '\\n'.join(get_code(raw_code))\n",
    "    \n",
    "    attempts = 0\n",
    "    figure = None  # get gpt to ask a question relating to the code\n",
    "    while attempts < atmps:\n",
    "        try:\n",
    "            figure = gpt_image_oneshot(image_link, image_to_figure)\n",
    "            attempts = atmps\n",
    "        except Exception as e:\n",
    "            attempts += 1\n",
    "            errors.append(str(e))\n",
    "    if figure == None:\n",
    "        print(\"couldnt get figure after\", atmps, \"attempts\")\n",
    "        print(errors[-1])\n",
    "    \n",
    "    attempts = 0\n",
    "    question = None  # get gpt to ask a question relating to the code\n",
    "    while attempts < atmps:\n",
    "        try:\n",
    "            question = gpt_image_oneshot(image_link, image_to_question)\n",
    "            attempts = atmps\n",
    "        except Exception as e:\n",
    "            attempts += 1\n",
    "            errors.append(str(e))\n",
    "    if question == None:\n",
    "        print(\"couldnt get question after\", atmps, \"attempts\")\n",
    "        print(errors[-1])\n",
    "    \n",
    "    attempts = 0\n",
    "    description = None  # get gpt to describe the code\n",
    "    if raw_code != None:\n",
    "        desc_prompt = \"Write a short description for what this piece of Verilog code does:\\n\" + processed_code\n",
    "        while attempts < atmps:\n",
    "            try:\n",
    "                description = gpt_oneshot(desc_prompt, code_to_description)\n",
    "                attempts = atmps\n",
    "            except Exception as e:\n",
    "                attempts += 1\n",
    "                errors.append(str(e))\n",
    "        if description == None:\n",
    "            print(\"couldnt get description after\", atmps, \"attempts\")\n",
    "            print(errors[-1])\n",
    "    \n",
    "    return [image_path, raw_code, processed_code, figure, question, description]"
   ]
  },
  {
   "cell_type": "markdown",
   "id": "ef6e5009",
   "metadata": {},
   "source": [
    "### Small Test Case"
   ]
  },
  {
   "cell_type": "markdown",
   "id": "5d5087d0",
   "metadata": {},
   "source": [
    "tester_im = cwd+\"/testpage.jpg\"\n",
    "results = info_from_image(tester_im, 10, True)\n",
    "display.Image(tester_im)"
   ]
  },
  {
   "cell_type": "code",
   "execution_count": null,
   "id": "48dd0a9b",
   "metadata": {},
   "outputs": [],
   "source": [
    "print(results[4])\n",
    "print()\n",
    "print(results[5])\n",
    "print()\n",
    "print(results[3])\n",
    "print()\n",
    "print(results[2])"
   ]
  },
  {
   "cell_type": "markdown",
   "id": "3fea9a58",
   "metadata": {},
   "source": [
    "## Running Analysis of all Pages"
   ]
  },
  {
   "cell_type": "code",
   "execution_count": null,
   "id": "73142e83",
   "metadata": {
    "scrolled": true
   },
   "outputs": [],
   "source": [
    "# MANUAL SPLITTER: https://pdfcandy.com/blog/how-to-split-pdf-on-mac.html\n",
    "# MANUAL CONVERTER: https://png2jpg.com/\n",
    "\n",
    "# find files\n",
    "book = \"LogicDesignAndVerification-Thomas\"\n",
    "# images_dir = \"/Data/example-code/verilog examples/Textbook SVA/\" + book\n",
    "images_dir = cwd+\"/Data/example-code/verilog examples/pages\"\n",
    "all_images = [images_dir+\"/\"+file for file in os.listdir(images_dir) if \".jpg\" in file]\n",
    "print(\"loaded\", len(all_images), \"jpg images\")\n",
    "\n",
    "# TODO: finalize auto-split & convert\n",
    "# from pdf2image import convert_from_path\n",
    "# pages_dir = images_dir+\"/pages\"\n",
    "# all_pages = [cwd+pages_dir+\"/\"+file for file in os.listdir(cwd+pages_dir) if \".pdf\" in file]\n",
    "# page_count = 0\n",
    "# def pdf_to_jpegs(imdir, verbose=True):\n",
    "#     \"\"\" convert from multi-page pdf to single-page jpeg \"\"\"\n",
    "    \n",
    "#     if verbose: print(\"...converting\", imdir)\n",
    "#     # https://stackoverflow.com/questions/46184239/extract-a-page-from-a-pdf-as-a-jpeg\n",
    "#     pages = convert_from_path(imdir)  # TODO: fix\n",
    "#     for page in pages:\n",
    "#         newpage_dir = pages_dir + \"/\" + book + \"-p\" + str(page_count) + \".jpg\"\n",
    "#         page.save(newpage_dir, 'JPEG')\n",
    "#         all_pages.append(newpage_dir)\n",
    "#         page_count += 1\n",
    "        \n",
    "# for im in all_images:"
   ]
  },
  {
   "cell_type": "code",
   "execution_count": null,
   "id": "8fbc244a",
   "metadata": {},
   "outputs": [],
   "source": [
    "all_results = []\n",
    "for im in tqdm(all_images):\n",
    "    results = info_from_image(im, 10, True)\n",
    "    all_results.append(results)"
   ]
  },
  {
   "cell_type": "markdown",
   "id": "7f8f78f5",
   "metadata": {},
   "source": [
    "### Cleaning Results"
   ]
  },
  {
   "cell_type": "code",
   "execution_count": null,
   "id": "5e452bf7",
   "metadata": {
    "scrolled": true
   },
   "outputs": [],
   "source": [
    "df = pd.DataFrame(all_results, columns=[\"Path\", \"raw_code\", \"Code\", \"Figure\", \"Question\", \"Description\"])\n",
    "\n",
    "# recover author\n",
    "def get_origin(im):\n",
    "    if \"creenshot\" in im:\n",
    "        return \"Mehta\"\n",
    "    else:\n",
    "        return \"Thomas\" \n",
    "df[\"Book\"] = df[\"Path\"].apply(lambda x: get_origin(x))  \n",
    "\n",
    "# cleaning\n",
    "df, failed_count, messages, inds = get_failed_request(df)\n",
    "df.isna().sum()"
   ]
  },
  {
   "cell_type": "code",
   "execution_count": null,
   "id": "8ee8fb03",
   "metadata": {},
   "outputs": [],
   "source": [
    "df"
   ]
  },
  {
   "cell_type": "markdown",
   "id": "63d041f5",
   "metadata": {},
   "source": [
    "### Saving Results"
   ]
  },
  {
   "cell_type": "code",
   "execution_count": null,
   "id": "f692439e",
   "metadata": {},
   "outputs": [],
   "source": [
    "save_dir = \"Data/example-code/verilog examples/pages-gptresponse.csv\"\n",
    "df.to_csv(save_dir)\n",
    "print(\"SAVED TO\", save_dir)\n",
    "\n",
    "# df = pd.read_csv(save_dir)"
   ]
  },
  {
   "cell_type": "code",
   "execution_count": null,
   "id": "188ebe60",
   "metadata": {},
   "outputs": [],
   "source": [
    "# Future Work Notes\n",
    "\n",
    "# TODO: use this as a baseline for future examples\n",
    "# TODO: assertion-specific dataset and \n",
    "# TODO: later, then a more general datas\n",
    "# raw code datasets --> snippers can be wrong and have bugs - llms are fine-tuned on prompts and responses\n",
    "# creation of the first \"high-quality\" prompt-response dataset with sva --> \n",
    "\n",
    "# RAW PYTHON, RAW SVA, SUPERVISED SVA (from textbooks)\n",
    "# Note; should be qualitative analysis with examples --> primarily this is the dataset, the crux is that this is one benefit of using the dataset\n",
    "# conclude with some basic evaluation of the usefulness of the dataset"
   ]
  },
  {
   "cell_type": "markdown",
   "id": "b32acc5f",
   "metadata": {},
   "source": [
    "## Short Analysis"
   ]
  },
  {
   "cell_type": "code",
   "execution_count": null,
   "id": "20761c29",
   "metadata": {},
   "outputs": [],
   "source": [
    "df = pd.read_csv(\"Data/example-code/verilog examples/pages-gptresponse.csv\")\n",
    "df.head()"
   ]
  },
  {
   "cell_type": "code",
   "execution_count": null,
   "id": "3cb2dd2c",
   "metadata": {},
   "outputs": [],
   "source": [
    "ind = 3\n",
    "print(df.iloc[ind][\"Code\"])"
   ]
  },
  {
   "cell_type": "code",
   "execution_count": null,
   "id": "8fd5ad61",
   "metadata": {},
   "outputs": [],
   "source": [
    "display.Image(df.iloc[ind][\"Path\"])"
   ]
  }
 ],
 "metadata": {
  "kernelspec": {
   "display_name": "Python 3 (ipykernel)",
   "language": "python",
   "name": "python3"
  },
  "language_info": {
   "codemirror_mode": {
    "name": "ipython",
    "version": 3
   },
   "file_extension": ".py",
   "mimetype": "text/x-python",
   "name": "python",
   "nbconvert_exporter": "python",
   "pygments_lexer": "ipython3",
   "version": "3.9.12"
  }
 },
 "nbformat": 4,
 "nbformat_minor": 5
}
